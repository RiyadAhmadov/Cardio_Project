{
 "cells": [
  {
   "cell_type": "markdown",
   "id": "d5c8fc4b",
   "metadata": {},
   "source": [
    "# 📋 Cardio Project"
   ]
  },
  {
   "cell_type": "code",
   "execution_count": 1392,
   "id": "a15c2be5-cc10-4812-9d2e-4606daaa198a",
   "metadata": {
    "slideshow": {
     "slide_type": ""
    },
    "tags": []
   },
   "outputs": [],
   "source": [
    "#Let's import libraries\n",
    "from sklearn.preprocessing import MinMaxScaler\n",
    "import pandas as pd\n",
    "import numpy as np\n",
    "from sklearn.ensemble import RandomForestClassifier , GradientBoostingClassifier\n",
    "from sklearn.neural_network import MLPClassifier\n",
    "from sklearn.svm import LinearSVC\n",
    "from sklearn.model_selection import train_test_split , GridSearchCV , RandomizedSearchCV\n",
    "from sklearn.metrics import f1_score , accuracy_score\n",
    "from sklearn.linear_model import LogisticRegression\n",
    "import matplotlib.pyplot as plt\n",
    "import statsmodels.api as sm\n",
    "import warnings\n",
    "from imblearn.ensemble import BalancedRandomForestClassifier\n",
    "import xgboost as xgb"
   ]
  },
  {
   "cell_type": "code",
   "execution_count": 1393,
   "id": "a1128448",
   "metadata": {},
   "outputs": [],
   "source": [
    "#Firstly , let's  ignore warnings\n",
    "warnings.filterwarnings('ignore')"
   ]
  },
  {
   "cell_type": "code",
   "execution_count": 1394,
   "id": "3c965cab",
   "metadata": {},
   "outputs": [],
   "source": [
    "#Let's import cardio dataset\n",
    "df = pd.read_csv('cardio_train - cardio_train.csv')"
   ]
  },
  {
   "cell_type": "code",
   "execution_count": 1395,
   "id": "b809b8b2-9ff5-489b-9cd4-3bc3de45a3a5",
   "metadata": {},
   "outputs": [
    {
     "data": {
      "text/html": [
       "<div>\n",
       "<style scoped>\n",
       "    .dataframe tbody tr th:only-of-type {\n",
       "        vertical-align: middle;\n",
       "    }\n",
       "\n",
       "    .dataframe tbody tr th {\n",
       "        vertical-align: top;\n",
       "    }\n",
       "\n",
       "    .dataframe thead th {\n",
       "        text-align: right;\n",
       "    }\n",
       "</style>\n",
       "<table border=\"1\" class=\"dataframe\">\n",
       "  <thead>\n",
       "    <tr style=\"text-align: right;\">\n",
       "      <th></th>\n",
       "      <th>id</th>\n",
       "      <th>age</th>\n",
       "      <th>gender</th>\n",
       "      <th>height</th>\n",
       "      <th>weight</th>\n",
       "      <th>ap_hi</th>\n",
       "      <th>ap_lo</th>\n",
       "      <th>cholesterol</th>\n",
       "      <th>gluc</th>\n",
       "      <th>smoke</th>\n",
       "      <th>alco</th>\n",
       "      <th>active</th>\n",
       "      <th>cardio</th>\n",
       "    </tr>\n",
       "  </thead>\n",
       "  <tbody>\n",
       "    <tr>\n",
       "      <th>0</th>\n",
       "      <td>0</td>\n",
       "      <td>18393</td>\n",
       "      <td>2</td>\n",
       "      <td>168</td>\n",
       "      <td>62.0</td>\n",
       "      <td>110</td>\n",
       "      <td>80</td>\n",
       "      <td>1</td>\n",
       "      <td>1</td>\n",
       "      <td>0</td>\n",
       "      <td>0</td>\n",
       "      <td>1</td>\n",
       "      <td>0</td>\n",
       "    </tr>\n",
       "    <tr>\n",
       "      <th>1</th>\n",
       "      <td>1</td>\n",
       "      <td>20228</td>\n",
       "      <td>1</td>\n",
       "      <td>156</td>\n",
       "      <td>85.0</td>\n",
       "      <td>140</td>\n",
       "      <td>90</td>\n",
       "      <td>3</td>\n",
       "      <td>1</td>\n",
       "      <td>0</td>\n",
       "      <td>0</td>\n",
       "      <td>1</td>\n",
       "      <td>1</td>\n",
       "    </tr>\n",
       "    <tr>\n",
       "      <th>2</th>\n",
       "      <td>2</td>\n",
       "      <td>18857</td>\n",
       "      <td>1</td>\n",
       "      <td>165</td>\n",
       "      <td>64.0</td>\n",
       "      <td>130</td>\n",
       "      <td>70</td>\n",
       "      <td>3</td>\n",
       "      <td>1</td>\n",
       "      <td>0</td>\n",
       "      <td>0</td>\n",
       "      <td>0</td>\n",
       "      <td>1</td>\n",
       "    </tr>\n",
       "    <tr>\n",
       "      <th>3</th>\n",
       "      <td>3</td>\n",
       "      <td>17623</td>\n",
       "      <td>2</td>\n",
       "      <td>169</td>\n",
       "      <td>82.0</td>\n",
       "      <td>150</td>\n",
       "      <td>100</td>\n",
       "      <td>1</td>\n",
       "      <td>1</td>\n",
       "      <td>0</td>\n",
       "      <td>0</td>\n",
       "      <td>1</td>\n",
       "      <td>1</td>\n",
       "    </tr>\n",
       "    <tr>\n",
       "      <th>4</th>\n",
       "      <td>4</td>\n",
       "      <td>17474</td>\n",
       "      <td>1</td>\n",
       "      <td>156</td>\n",
       "      <td>56.0</td>\n",
       "      <td>100</td>\n",
       "      <td>60</td>\n",
       "      <td>1</td>\n",
       "      <td>1</td>\n",
       "      <td>0</td>\n",
       "      <td>0</td>\n",
       "      <td>0</td>\n",
       "      <td>0</td>\n",
       "    </tr>\n",
       "    <tr>\n",
       "      <th>...</th>\n",
       "      <td>...</td>\n",
       "      <td>...</td>\n",
       "      <td>...</td>\n",
       "      <td>...</td>\n",
       "      <td>...</td>\n",
       "      <td>...</td>\n",
       "      <td>...</td>\n",
       "      <td>...</td>\n",
       "      <td>...</td>\n",
       "      <td>...</td>\n",
       "      <td>...</td>\n",
       "      <td>...</td>\n",
       "      <td>...</td>\n",
       "    </tr>\n",
       "    <tr>\n",
       "      <th>69995</th>\n",
       "      <td>99993</td>\n",
       "      <td>19240</td>\n",
       "      <td>2</td>\n",
       "      <td>168</td>\n",
       "      <td>76.0</td>\n",
       "      <td>120</td>\n",
       "      <td>80</td>\n",
       "      <td>1</td>\n",
       "      <td>1</td>\n",
       "      <td>1</td>\n",
       "      <td>0</td>\n",
       "      <td>1</td>\n",
       "      <td>0</td>\n",
       "    </tr>\n",
       "    <tr>\n",
       "      <th>69996</th>\n",
       "      <td>99995</td>\n",
       "      <td>22601</td>\n",
       "      <td>1</td>\n",
       "      <td>158</td>\n",
       "      <td>126.0</td>\n",
       "      <td>140</td>\n",
       "      <td>90</td>\n",
       "      <td>2</td>\n",
       "      <td>2</td>\n",
       "      <td>0</td>\n",
       "      <td>0</td>\n",
       "      <td>1</td>\n",
       "      <td>1</td>\n",
       "    </tr>\n",
       "    <tr>\n",
       "      <th>69997</th>\n",
       "      <td>99996</td>\n",
       "      <td>19066</td>\n",
       "      <td>2</td>\n",
       "      <td>183</td>\n",
       "      <td>105.0</td>\n",
       "      <td>180</td>\n",
       "      <td>90</td>\n",
       "      <td>3</td>\n",
       "      <td>1</td>\n",
       "      <td>0</td>\n",
       "      <td>1</td>\n",
       "      <td>0</td>\n",
       "      <td>1</td>\n",
       "    </tr>\n",
       "    <tr>\n",
       "      <th>69998</th>\n",
       "      <td>99998</td>\n",
       "      <td>22431</td>\n",
       "      <td>1</td>\n",
       "      <td>163</td>\n",
       "      <td>72.0</td>\n",
       "      <td>135</td>\n",
       "      <td>80</td>\n",
       "      <td>1</td>\n",
       "      <td>2</td>\n",
       "      <td>0</td>\n",
       "      <td>0</td>\n",
       "      <td>0</td>\n",
       "      <td>1</td>\n",
       "    </tr>\n",
       "    <tr>\n",
       "      <th>69999</th>\n",
       "      <td>99999</td>\n",
       "      <td>20540</td>\n",
       "      <td>1</td>\n",
       "      <td>170</td>\n",
       "      <td>72.0</td>\n",
       "      <td>120</td>\n",
       "      <td>80</td>\n",
       "      <td>2</td>\n",
       "      <td>1</td>\n",
       "      <td>0</td>\n",
       "      <td>0</td>\n",
       "      <td>1</td>\n",
       "      <td>0</td>\n",
       "    </tr>\n",
       "  </tbody>\n",
       "</table>\n",
       "<p>70000 rows × 13 columns</p>\n",
       "</div>"
      ],
      "text/plain": [
       "          id    age  gender  height  weight  ap_hi  ap_lo  cholesterol  gluc  \\\n",
       "0          0  18393       2     168    62.0    110     80            1     1   \n",
       "1          1  20228       1     156    85.0    140     90            3     1   \n",
       "2          2  18857       1     165    64.0    130     70            3     1   \n",
       "3          3  17623       2     169    82.0    150    100            1     1   \n",
       "4          4  17474       1     156    56.0    100     60            1     1   \n",
       "...      ...    ...     ...     ...     ...    ...    ...          ...   ...   \n",
       "69995  99993  19240       2     168    76.0    120     80            1     1   \n",
       "69996  99995  22601       1     158   126.0    140     90            2     2   \n",
       "69997  99996  19066       2     183   105.0    180     90            3     1   \n",
       "69998  99998  22431       1     163    72.0    135     80            1     2   \n",
       "69999  99999  20540       1     170    72.0    120     80            2     1   \n",
       "\n",
       "       smoke  alco  active  cardio  \n",
       "0          0     0       1       0  \n",
       "1          0     0       1       1  \n",
       "2          0     0       0       1  \n",
       "3          0     0       1       1  \n",
       "4          0     0       0       0  \n",
       "...      ...   ...     ...     ...  \n",
       "69995      1     0       1       0  \n",
       "69996      0     0       1       1  \n",
       "69997      0     1       0       1  \n",
       "69998      0     0       0       1  \n",
       "69999      0     0       1       0  \n",
       "\n",
       "[70000 rows x 13 columns]"
      ]
     },
     "execution_count": 1395,
     "metadata": {},
     "output_type": "execute_result"
    }
   ],
   "source": [
    "#Let's look at dataset\n",
    "df"
   ]
  },
  {
   "cell_type": "markdown",
   "id": "56404dda",
   "metadata": {},
   "source": [
    "# 📈 Descriptive analytics"
   ]
  },
  {
   "cell_type": "code",
   "execution_count": 1396,
   "id": "a01f74a5-0ef1-45b8-a9da-61750c205e60",
   "metadata": {
    "slideshow": {
     "slide_type": ""
    },
    "tags": []
   },
   "outputs": [
    {
     "data": {
      "text/plain": [
       "id             0\n",
       "age            0\n",
       "gender         0\n",
       "height         0\n",
       "weight         0\n",
       "ap_hi          0\n",
       "ap_lo          0\n",
       "cholesterol    0\n",
       "gluc           0\n",
       "smoke          0\n",
       "alco           0\n",
       "active         0\n",
       "cardio         0\n",
       "dtype: int64"
      ]
     },
     "execution_count": 1396,
     "metadata": {},
     "output_type": "execute_result"
    }
   ],
   "source": [
    "#Let's examine null values\n",
    "df.isnull().sum()"
   ]
  },
  {
   "cell_type": "code",
   "execution_count": 1397,
   "id": "86152de8",
   "metadata": {},
   "outputs": [
    {
     "data": {
      "text/plain": [
       "id             0.003799\n",
       "age            0.238159\n",
       "gender         0.008109\n",
       "height        -0.010821\n",
       "weight         0.181660\n",
       "ap_hi          0.054475\n",
       "ap_lo          0.065719\n",
       "cholesterol    0.221147\n",
       "gluc           0.089307\n",
       "smoke         -0.015486\n",
       "alco          -0.007330\n",
       "active        -0.035653\n",
       "Name: cardio, dtype: float64"
      ]
     },
     "execution_count": 1397,
     "metadata": {},
     "output_type": "execute_result"
    }
   ],
   "source": [
    "#Let's examine correlation cardio with other columns\n",
    "df.corr()['cardio'][:-1]"
   ]
  },
  {
   "cell_type": "code",
   "execution_count": 1398,
   "id": "d01e926f",
   "metadata": {},
   "outputs": [
    {
     "data": {
      "text/html": [
       "<div>\n",
       "<style scoped>\n",
       "    .dataframe tbody tr th:only-of-type {\n",
       "        vertical-align: middle;\n",
       "    }\n",
       "\n",
       "    .dataframe tbody tr th {\n",
       "        vertical-align: top;\n",
       "    }\n",
       "\n",
       "    .dataframe thead th {\n",
       "        text-align: right;\n",
       "    }\n",
       "</style>\n",
       "<table border=\"1\" class=\"dataframe\">\n",
       "  <thead>\n",
       "    <tr style=\"text-align: right;\">\n",
       "      <th></th>\n",
       "      <th>count</th>\n",
       "      <th>mean</th>\n",
       "      <th>std</th>\n",
       "      <th>min</th>\n",
       "      <th>25%</th>\n",
       "      <th>50%</th>\n",
       "      <th>75%</th>\n",
       "      <th>max</th>\n",
       "    </tr>\n",
       "  </thead>\n",
       "  <tbody>\n",
       "    <tr>\n",
       "      <th>id</th>\n",
       "      <td>70000.0</td>\n",
       "      <td>49972.419900</td>\n",
       "      <td>28851.302323</td>\n",
       "      <td>0.0</td>\n",
       "      <td>25006.75</td>\n",
       "      <td>50001.5</td>\n",
       "      <td>74889.25</td>\n",
       "      <td>99999.0</td>\n",
       "    </tr>\n",
       "    <tr>\n",
       "      <th>age</th>\n",
       "      <td>70000.0</td>\n",
       "      <td>19468.865814</td>\n",
       "      <td>2467.251667</td>\n",
       "      <td>10798.0</td>\n",
       "      <td>17664.00</td>\n",
       "      <td>19703.0</td>\n",
       "      <td>21327.00</td>\n",
       "      <td>23713.0</td>\n",
       "    </tr>\n",
       "    <tr>\n",
       "      <th>gender</th>\n",
       "      <td>70000.0</td>\n",
       "      <td>1.349571</td>\n",
       "      <td>0.476838</td>\n",
       "      <td>1.0</td>\n",
       "      <td>1.00</td>\n",
       "      <td>1.0</td>\n",
       "      <td>2.00</td>\n",
       "      <td>2.0</td>\n",
       "    </tr>\n",
       "    <tr>\n",
       "      <th>height</th>\n",
       "      <td>70000.0</td>\n",
       "      <td>164.359229</td>\n",
       "      <td>8.210126</td>\n",
       "      <td>55.0</td>\n",
       "      <td>159.00</td>\n",
       "      <td>165.0</td>\n",
       "      <td>170.00</td>\n",
       "      <td>250.0</td>\n",
       "    </tr>\n",
       "    <tr>\n",
       "      <th>weight</th>\n",
       "      <td>70000.0</td>\n",
       "      <td>74.205690</td>\n",
       "      <td>14.395757</td>\n",
       "      <td>10.0</td>\n",
       "      <td>65.00</td>\n",
       "      <td>72.0</td>\n",
       "      <td>82.00</td>\n",
       "      <td>200.0</td>\n",
       "    </tr>\n",
       "    <tr>\n",
       "      <th>ap_hi</th>\n",
       "      <td>70000.0</td>\n",
       "      <td>128.817286</td>\n",
       "      <td>154.011419</td>\n",
       "      <td>-150.0</td>\n",
       "      <td>120.00</td>\n",
       "      <td>120.0</td>\n",
       "      <td>140.00</td>\n",
       "      <td>16020.0</td>\n",
       "    </tr>\n",
       "    <tr>\n",
       "      <th>ap_lo</th>\n",
       "      <td>70000.0</td>\n",
       "      <td>96.630414</td>\n",
       "      <td>188.472530</td>\n",
       "      <td>-70.0</td>\n",
       "      <td>80.00</td>\n",
       "      <td>80.0</td>\n",
       "      <td>90.00</td>\n",
       "      <td>11000.0</td>\n",
       "    </tr>\n",
       "    <tr>\n",
       "      <th>cholesterol</th>\n",
       "      <td>70000.0</td>\n",
       "      <td>1.366871</td>\n",
       "      <td>0.680250</td>\n",
       "      <td>1.0</td>\n",
       "      <td>1.00</td>\n",
       "      <td>1.0</td>\n",
       "      <td>2.00</td>\n",
       "      <td>3.0</td>\n",
       "    </tr>\n",
       "    <tr>\n",
       "      <th>gluc</th>\n",
       "      <td>70000.0</td>\n",
       "      <td>1.226457</td>\n",
       "      <td>0.572270</td>\n",
       "      <td>1.0</td>\n",
       "      <td>1.00</td>\n",
       "      <td>1.0</td>\n",
       "      <td>1.00</td>\n",
       "      <td>3.0</td>\n",
       "    </tr>\n",
       "    <tr>\n",
       "      <th>smoke</th>\n",
       "      <td>70000.0</td>\n",
       "      <td>0.088129</td>\n",
       "      <td>0.283484</td>\n",
       "      <td>0.0</td>\n",
       "      <td>0.00</td>\n",
       "      <td>0.0</td>\n",
       "      <td>0.00</td>\n",
       "      <td>1.0</td>\n",
       "    </tr>\n",
       "    <tr>\n",
       "      <th>alco</th>\n",
       "      <td>70000.0</td>\n",
       "      <td>0.053771</td>\n",
       "      <td>0.225568</td>\n",
       "      <td>0.0</td>\n",
       "      <td>0.00</td>\n",
       "      <td>0.0</td>\n",
       "      <td>0.00</td>\n",
       "      <td>1.0</td>\n",
       "    </tr>\n",
       "    <tr>\n",
       "      <th>active</th>\n",
       "      <td>70000.0</td>\n",
       "      <td>0.803729</td>\n",
       "      <td>0.397179</td>\n",
       "      <td>0.0</td>\n",
       "      <td>1.00</td>\n",
       "      <td>1.0</td>\n",
       "      <td>1.00</td>\n",
       "      <td>1.0</td>\n",
       "    </tr>\n",
       "    <tr>\n",
       "      <th>cardio</th>\n",
       "      <td>70000.0</td>\n",
       "      <td>0.499700</td>\n",
       "      <td>0.500003</td>\n",
       "      <td>0.0</td>\n",
       "      <td>0.00</td>\n",
       "      <td>0.0</td>\n",
       "      <td>1.00</td>\n",
       "      <td>1.0</td>\n",
       "    </tr>\n",
       "  </tbody>\n",
       "</table>\n",
       "</div>"
      ],
      "text/plain": [
       "               count          mean           std      min       25%      50%  \\\n",
       "id           70000.0  49972.419900  28851.302323      0.0  25006.75  50001.5   \n",
       "age          70000.0  19468.865814   2467.251667  10798.0  17664.00  19703.0   \n",
       "gender       70000.0      1.349571      0.476838      1.0      1.00      1.0   \n",
       "height       70000.0    164.359229      8.210126     55.0    159.00    165.0   \n",
       "weight       70000.0     74.205690     14.395757     10.0     65.00     72.0   \n",
       "ap_hi        70000.0    128.817286    154.011419   -150.0    120.00    120.0   \n",
       "ap_lo        70000.0     96.630414    188.472530    -70.0     80.00     80.0   \n",
       "cholesterol  70000.0      1.366871      0.680250      1.0      1.00      1.0   \n",
       "gluc         70000.0      1.226457      0.572270      1.0      1.00      1.0   \n",
       "smoke        70000.0      0.088129      0.283484      0.0      0.00      0.0   \n",
       "alco         70000.0      0.053771      0.225568      0.0      0.00      0.0   \n",
       "active       70000.0      0.803729      0.397179      0.0      1.00      1.0   \n",
       "cardio       70000.0      0.499700      0.500003      0.0      0.00      0.0   \n",
       "\n",
       "                  75%      max  \n",
       "id           74889.25  99999.0  \n",
       "age          21327.00  23713.0  \n",
       "gender           2.00      2.0  \n",
       "height         170.00    250.0  \n",
       "weight          82.00    200.0  \n",
       "ap_hi          140.00  16020.0  \n",
       "ap_lo           90.00  11000.0  \n",
       "cholesterol      2.00      3.0  \n",
       "gluc             1.00      3.0  \n",
       "smoke            0.00      1.0  \n",
       "alco             0.00      1.0  \n",
       "active           1.00      1.0  \n",
       "cardio           1.00      1.0  "
      ]
     },
     "execution_count": 1398,
     "metadata": {},
     "output_type": "execute_result"
    }
   ],
   "source": [
    "#Let's look at descriptive analysis\n",
    "df.describe().T"
   ]
  },
  {
   "cell_type": "code",
   "execution_count": 1399,
   "id": "f5d9180e",
   "metadata": {},
   "outputs": [
    {
     "name": "stdout",
     "output_type": "stream",
     "text": [
      "<class 'pandas.core.frame.DataFrame'>\n",
      "RangeIndex: 70000 entries, 0 to 69999\n",
      "Data columns (total 13 columns):\n",
      " #   Column       Non-Null Count  Dtype  \n",
      "---  ------       --------------  -----  \n",
      " 0   id           70000 non-null  int64  \n",
      " 1   age          70000 non-null  int64  \n",
      " 2   gender       70000 non-null  int64  \n",
      " 3   height       70000 non-null  int64  \n",
      " 4   weight       70000 non-null  float64\n",
      " 5   ap_hi        70000 non-null  int64  \n",
      " 6   ap_lo        70000 non-null  int64  \n",
      " 7   cholesterol  70000 non-null  int64  \n",
      " 8   gluc         70000 non-null  int64  \n",
      " 9   smoke        70000 non-null  int64  \n",
      " 10  alco         70000 non-null  int64  \n",
      " 11  active       70000 non-null  int64  \n",
      " 12  cardio       70000 non-null  int64  \n",
      "dtypes: float64(1), int64(12)\n",
      "memory usage: 6.9 MB\n"
     ]
    }
   ],
   "source": [
    "#Let's examine dataset info \n",
    "df.info()"
   ]
  },
  {
   "cell_type": "code",
   "execution_count": 1400,
   "id": "4932b52a-a027-4f4d-8371-051966514a09",
   "metadata": {},
   "outputs": [
    {
     "data": {
      "text/plain": [
       "id               int64\n",
       "age              int64\n",
       "gender           int64\n",
       "height           int64\n",
       "weight         float64\n",
       "ap_hi            int64\n",
       "ap_lo            int64\n",
       "cholesterol      int64\n",
       "gluc             int64\n",
       "smoke            int64\n",
       "alco             int64\n",
       "active           int64\n",
       "cardio           int64\n",
       "dtype: object"
      ]
     },
     "execution_count": 1400,
     "metadata": {},
     "output_type": "execute_result"
    }
   ],
   "source": [
    "#Let's look at data types of columns \n",
    "df.dtypes"
   ]
  },
  {
   "cell_type": "code",
   "execution_count": 1401,
   "id": "a9ef1214",
   "metadata": {},
   "outputs": [
    {
     "data": {
      "text/plain": [
       "id             70000\n",
       "age             8076\n",
       "gender             2\n",
       "height           109\n",
       "weight           287\n",
       "ap_hi            153\n",
       "ap_lo            157\n",
       "cholesterol        3\n",
       "gluc               3\n",
       "smoke              2\n",
       "alco               2\n",
       "active             2\n",
       "cardio             2\n",
       "dtype: int64"
      ]
     },
     "execution_count": 1401,
     "metadata": {},
     "output_type": "execute_result"
    }
   ],
   "source": [
    "#Let's examine number of unique values for all columns\n",
    "df.nunique()"
   ]
  },
  {
   "cell_type": "code",
   "execution_count": 1402,
   "id": "2c2e05df-ba61-4ab0-9f4a-1a0055527282",
   "metadata": {
    "slideshow": {
     "slide_type": ""
    },
    "tags": []
   },
   "outputs": [
    {
     "name": "stdout",
     "output_type": "stream",
     "text": [
      "Id: \n",
      "0        1\n",
      "66623    1\n",
      "66631    1\n",
      "66630    1\n",
      "66628    1\n",
      "        ..\n",
      "33338    1\n",
      "33339    1\n",
      "33340    1\n",
      "33341    1\n",
      "99999    1\n",
      "Name: id, Length: 70000, dtype: int64\n",
      "=========================\n",
      "Age: \n",
      "19741    32\n",
      "18236    32\n",
      "20376    31\n",
      "18253    31\n",
      "20442    31\n",
      "         ..\n",
      "19277     1\n",
      "16493     1\n",
      "20059     1\n",
      "23659     1\n",
      "17926     1\n",
      "Name: age, Length: 8076, dtype: int64\n",
      "=========================\n",
      "Gender: \n",
      "1    45530\n",
      "2    24470\n",
      "Name: gender, dtype: int64\n",
      "=========================\n",
      "Height: \n",
      "165    5853\n",
      "160    5022\n",
      "170    4679\n",
      "168    4399\n",
      "164    3396\n",
      "       ... \n",
      "112       1\n",
      "98        1\n",
      "74        1\n",
      "119       1\n",
      "57        1\n",
      "Name: height, Length: 109, dtype: int64\n",
      "=========================\n",
      "Weight: \n",
      "65.0    3850\n",
      "70.0    3764\n",
      "68.0    2831\n",
      "75.0    2740\n",
      "60.0    2710\n",
      "        ... \n",
      "92.2       1\n",
      "75.6       1\n",
      "82.9       1\n",
      "23.0       1\n",
      "99.9       1\n",
      "Name: weight, Length: 287, dtype: int64\n",
      "=========================\n",
      "Ap_hi: \n",
      " 120     27699\n",
      " 140      9506\n",
      " 130      8961\n",
      " 110      8644\n",
      " 150      4450\n",
      "         ...  \n",
      " 1620        1\n",
      " 199         1\n",
      "-150         1\n",
      "-115         1\n",
      " 2000        1\n",
      "Name: ap_hi, Length: 153, dtype: int64\n",
      "=========================\n",
      "Ap_lo: \n",
      "80     34847\n",
      "90     14316\n",
      "70     10245\n",
      "100     4082\n",
      "60      2727\n",
      "       ...  \n",
      "56         1\n",
      "182        1\n",
      "810        1\n",
      "9          1\n",
      "602        1\n",
      "Name: ap_lo, Length: 157, dtype: int64\n",
      "=========================\n",
      "Cholesterol: \n",
      "1    52385\n",
      "2     9549\n",
      "3     8066\n",
      "Name: cholesterol, dtype: int64\n",
      "=========================\n",
      "Gluc: \n",
      "1    59479\n",
      "3     5331\n",
      "2     5190\n",
      "Name: gluc, dtype: int64\n",
      "=========================\n",
      "Smoke: \n",
      "0    63831\n",
      "1     6169\n",
      "Name: smoke, dtype: int64\n",
      "=========================\n",
      "Alco: \n",
      "0    66236\n",
      "1     3764\n",
      "Name: alco, dtype: int64\n",
      "=========================\n",
      "Active: \n",
      "1    56261\n",
      "0    13739\n",
      "Name: active, dtype: int64\n",
      "=========================\n",
      "Cardio: \n",
      "0    35021\n",
      "1    34979\n",
      "Name: cardio, dtype: int64\n",
      "=========================\n"
     ]
    }
   ],
   "source": [
    "#Let's examine value counts for all columns\n",
    "for i in df.columns:\n",
    "    print(f\"{str(i).capitalize()}: \") \n",
    "    print(df[i].value_counts())\n",
    "    print(\"=========================\")"
   ]
  },
  {
   "cell_type": "markdown",
   "id": "6ee72a3e",
   "metadata": {},
   "source": [
    "# ♻️ Let's convert the representation of variables"
   ]
  },
  {
   "cell_type": "code",
   "execution_count": 1403,
   "id": "4569f559",
   "metadata": {},
   "outputs": [],
   "source": [
    "#Let's convert the day to year in the age column\n",
    "df[\"age\"]=df[\"age\"]/365"
   ]
  },
  {
   "cell_type": "code",
   "execution_count": 1404,
   "id": "3562cb37-37a3-4f4d-a1a1-a1ac14b09571",
   "metadata": {},
   "outputs": [],
   "source": [
    "#Let's convert 2 - Male to 1 and 1 - Female to 0 \n",
    "df[\"gender\"]=df[\"gender\"].map({2:1,1:0})"
   ]
  },
  {
   "cell_type": "markdown",
   "id": "94a47a81",
   "metadata": {},
   "source": [
    "# 🚫 Let's remove unnecessary variables"
   ]
  },
  {
   "cell_type": "code",
   "execution_count": 1405,
   "id": "d00c7ffc",
   "metadata": {},
   "outputs": [
    {
     "data": {
      "text/plain": [
       "id             70000\n",
       "age             8076\n",
       "gender             2\n",
       "height           109\n",
       "weight           287\n",
       "ap_hi            153\n",
       "ap_lo            157\n",
       "cholesterol        3\n",
       "gluc               3\n",
       "smoke              2\n",
       "alco               2\n",
       "active             2\n",
       "cardio             2\n",
       "dtype: int64"
      ]
     },
     "execution_count": 1405,
     "metadata": {},
     "output_type": "execute_result"
    }
   ],
   "source": [
    "#Let's examine cardinality\n",
    "df.nunique()"
   ]
  },
  {
   "cell_type": "code",
   "execution_count": 1406,
   "id": "7e47bd25",
   "metadata": {},
   "outputs": [],
   "source": [
    "#Let's remove id column becouse all values is unique\n",
    "del df['id']"
   ]
  },
  {
   "cell_type": "code",
   "execution_count": 1025,
   "id": "3452f3d6",
   "metadata": {},
   "outputs": [
    {
     "data": {
      "text/plain": [
       "<Axes: >"
      ]
     },
     "execution_count": 1025,
     "metadata": {},
     "output_type": "execute_result"
    },
    {
     "data": {
      "image/png": "[encoded data removed]",
      "text/plain": [
       "<Figure size 1000x800 with 2 Axes>"
      ]
     },
     "metadata": {},
     "output_type": "display_data"
    }
   ],
   "source": [
    "#Let's consider the columns that are highly correlated with others\n",
    "#Let's calculate the correlation matrix\n",
    "correlation_matrix = df.corr()\n",
    "\n",
    "# Generate a mask for the upper triangle\n",
    "mask = np.triu(np.ones_like(correlation_matrix, dtype=bool))\n",
    "plt.figure(figsize=(10, 8))\n",
    "\n",
    "# Create a heatmap of the correlation matrix\n",
    "sns.heatmap(correlation_matrix, mask=mask, annot=True, cmap='coolwarm')"
   ]
  },
  {
   "cell_type": "code",
   "execution_count": 1407,
   "id": "0676d237",
   "metadata": {},
   "outputs": [],
   "source": [
    "#Let's find vif\n",
    "#Independent value\n",
    "columns = list(df.columns)\n",
    "\n",
    "# Add a constant column to the dataframe\n",
    "df_with_constant = sm.add_constant(df[columns])\n",
    "\n",
    "# Calculate VIF\n",
    "vif = pd.DataFrame()\n",
    "vif[\"Variable\"] = df_with_constant.columns\n",
    "vif[\"VIF\"] = [sm.OLS(df_with_constant[col], df_with_constant.drop(col, axis=1)).fit().rsquared for col in df_with_constant.columns]"
   ]
  },
  {
   "cell_type": "code",
   "execution_count": 1027,
   "id": "25102d3e",
   "metadata": {},
   "outputs": [
    {
     "data": {
      "text/html": [
       "<div>\n",
       "<style scoped>\n",
       "    .dataframe tbody tr th:only-of-type {\n",
       "        vertical-align: middle;\n",
       "    }\n",
       "\n",
       "    .dataframe tbody tr th {\n",
       "        vertical-align: top;\n",
       "    }\n",
       "\n",
       "    .dataframe thead th {\n",
       "        text-align: right;\n",
       "    }\n",
       "</style>\n",
       "<table border=\"1\" class=\"dataframe\">\n",
       "  <thead>\n",
       "    <tr style=\"text-align: right;\">\n",
       "      <th></th>\n",
       "      <th>Variable</th>\n",
       "      <th>VIF</th>\n",
       "    </tr>\n",
       "  </thead>\n",
       "  <tbody>\n",
       "    <tr>\n",
       "      <th>0</th>\n",
       "      <td>const</td>\n",
       "      <td>0.998397</td>\n",
       "    </tr>\n",
       "    <tr>\n",
       "      <th>1</th>\n",
       "      <td>age</td>\n",
       "      <td>0.076996</td>\n",
       "    </tr>\n",
       "    <tr>\n",
       "      <th>2</th>\n",
       "      <td>gender</td>\n",
       "      <td>0.314506</td>\n",
       "    </tr>\n",
       "    <tr>\n",
       "      <th>3</th>\n",
       "      <td>height</td>\n",
       "      <td>0.306579</td>\n",
       "    </tr>\n",
       "    <tr>\n",
       "      <th>4</th>\n",
       "      <td>weight</td>\n",
       "      <td>0.138269</td>\n",
       "    </tr>\n",
       "    <tr>\n",
       "      <th>5</th>\n",
       "      <td>ap_hi</td>\n",
       "      <td>0.003716</td>\n",
       "    </tr>\n",
       "    <tr>\n",
       "      <th>6</th>\n",
       "      <td>ap_lo</td>\n",
       "      <td>0.005815</td>\n",
       "    </tr>\n",
       "    <tr>\n",
       "      <th>7</th>\n",
       "      <td>cholesterol</td>\n",
       "      <td>0.251219</td>\n",
       "    </tr>\n",
       "    <tr>\n",
       "      <th>8</th>\n",
       "      <td>gluc</td>\n",
       "      <td>0.207477</td>\n",
       "    </tr>\n",
       "    <tr>\n",
       "      <th>9</th>\n",
       "      <td>smoke</td>\n",
       "      <td>0.198446</td>\n",
       "    </tr>\n",
       "    <tr>\n",
       "      <th>10</th>\n",
       "      <td>alco</td>\n",
       "      <td>0.122288</td>\n",
       "    </tr>\n",
       "    <tr>\n",
       "      <th>11</th>\n",
       "      <td>active</td>\n",
       "      <td>0.003019</td>\n",
       "    </tr>\n",
       "    <tr>\n",
       "      <th>12</th>\n",
       "      <td>cardio</td>\n",
       "      <td>0.120162</td>\n",
       "    </tr>\n",
       "  </tbody>\n",
       "</table>\n",
       "</div>"
      ],
      "text/plain": [
       "       Variable       VIF\n",
       "0         const  0.998397\n",
       "1           age  0.076996\n",
       "2        gender  0.314506\n",
       "3        height  0.306579\n",
       "4        weight  0.138269\n",
       "5         ap_hi  0.003716\n",
       "6         ap_lo  0.005815\n",
       "7   cholesterol  0.251219\n",
       "8          gluc  0.207477\n",
       "9         smoke  0.198446\n",
       "10         alco  0.122288\n",
       "11       active  0.003019\n",
       "12       cardio  0.120162"
      ]
     },
     "execution_count": 1027,
     "metadata": {},
     "output_type": "execute_result"
    }
   ],
   "source": [
    "#Let's look at vif data frame\n",
    "vif"
   ]
  },
  {
   "cell_type": "code",
   "execution_count": 1028,
   "id": "2039cefc",
   "metadata": {},
   "outputs": [
    {
     "data": {
      "text/plain": [
       "age            0\n",
       "gender         0\n",
       "height         0\n",
       "weight         0\n",
       "ap_hi          0\n",
       "ap_lo          0\n",
       "cholesterol    0\n",
       "gluc           0\n",
       "smoke          0\n",
       "alco           0\n",
       "active         0\n",
       "cardio         0\n",
       "dtype: int64"
      ]
     },
     "execution_count": 1028,
     "metadata": {},
     "output_type": "execute_result"
    }
   ],
   "source": [
    "#Let's examine null values\n",
    "df.isnull().sum()"
   ]
  },
  {
   "cell_type": "markdown",
   "id": "3f9a24db",
   "metadata": {},
   "source": [
    "# 🚫 Let's clean invalid values"
   ]
  },
  {
   "cell_type": "code",
   "execution_count": 1562,
   "id": "dd137f17-8ecb-4b0c-9e3b-8eba648eba7d",
   "metadata": {},
   "outputs": [],
   "source": [
    "#Let's remove outlier\n",
    "for i in ['height','weight','ap_hi','ap_lo','age']:\n",
    "    mean = df[i].mean()\n",
    "    std = df[i].std()\n",
    "    below_outlier = mean - 3*std\n",
    "    above_outlier = mean + 3*std\n",
    "    df = df[(df[i]>=below_outlier) & (df[i]<=above_outlier)]"
   ]
  },
  {
   "cell_type": "markdown",
   "id": "7017e2b5",
   "metadata": {},
   "source": [
    "# ⚙️ Let's normalize the data set"
   ]
  },
  {
   "cell_type": "code",
   "execution_count": 1563,
   "id": "7056fcc0",
   "metadata": {},
   "outputs": [],
   "source": [
    "#Let's normalize columns of the data set \n",
    "for i in ['age', 'height', 'weight', 'ap_hi', 'ap_lo']:\n",
    "    df[i] = (df[i]-df[i].min())/(df[i].max()-df[i].min())"
   ]
  },
  {
   "cell_type": "markdown",
   "id": "0ff46a2a",
   "metadata": {},
   "source": [
    "# ⚠️ Let's limit it to logic"
   ]
  },
  {
   "cell_type": "code",
   "execution_count": 1564,
   "id": "2b6ff0bd",
   "metadata": {},
   "outputs": [],
   "source": [
    "#Let's limit ap_lo/ap_hi columns\n",
    "df=df[(df[\"ap_hi\"]<=300)&(df[\"ap_hi\"]>=df[\"ap_lo\"])&(df[\"ap_lo\"]>0)]"
   ]
  },
  {
   "cell_type": "markdown",
   "id": "79afd95d",
   "metadata": {},
   "source": [
    "# 🔎 Let's examine target value"
   ]
  },
  {
   "cell_type": "code",
   "execution_count": 1565,
   "id": "47504881",
   "metadata": {},
   "outputs": [
    {
     "data": {
      "text/plain": [
       "0    34513\n",
       "1    33541\n",
       "Name: cardio, dtype: int64"
      ]
     },
     "execution_count": 1565,
     "metadata": {},
     "output_type": "execute_result"
    }
   ],
   "source": [
    "#Let's check the balance\n",
    "df.cardio.value_counts()"
   ]
  },
  {
   "cell_type": "code",
   "execution_count": 1566,
   "id": "967f25d5-9854-45dd-98eb-e4e436884c2a",
   "metadata": {},
   "outputs": [
    {
     "data": {
      "text/plain": [
       "age            0.242083\n",
       "gender         0.006251\n",
       "height        -0.016046\n",
       "weight         0.178892\n",
       "ap_hi          0.401005\n",
       "ap_lo          0.328763\n",
       "cholesterol    0.221068\n",
       "gluc           0.088933\n",
       "smoke         -0.017146\n",
       "alco          -0.008338\n",
       "active        -0.037659\n",
       "Name: cardio, dtype: float64"
      ]
     },
     "execution_count": 1566,
     "metadata": {},
     "output_type": "execute_result"
    }
   ],
   "source": [
    "#Let's examine correlation cardio with other columns\n",
    "df.corr()['cardio'][:-1]"
   ]
  },
  {
   "cell_type": "code",
   "execution_count": 1568,
   "id": "3e9f1349",
   "metadata": {},
   "outputs": [],
   "source": [
    "#Let's assign target and explanatory values\n",
    "y = df['cardio']\n",
    "X = df.drop('cardio',axis =1)"
   ]
  },
  {
   "cell_type": "code",
   "execution_count": 1567,
   "id": "8429d7c1",
   "metadata": {},
   "outputs": [],
   "source": [
    "df_s = df.copy()"
   ]
  },
  {
   "cell_type": "markdown",
   "id": "a037ef12",
   "metadata": {},
   "source": [
    "# 🛠️ Modelling"
   ]
  },
  {
   "cell_type": "code",
   "execution_count": 1570,
   "id": "d76e510e",
   "metadata": {},
   "outputs": [],
   "source": [
    "del df['gender']\n",
    "del df['alco']"
   ]
  },
  {
   "cell_type": "code",
   "execution_count": 1541,
   "id": "3592d832",
   "metadata": {},
   "outputs": [],
   "source": [
    "#Let's create random forest classifier model\n",
    "rf_classifier = RandomForestClassifier(n_estimators=100, random_state=42,max_depth = 7 , min_samples_leaf = 4)"
   ]
  },
  {
   "cell_type": "code",
   "execution_count": 1547,
   "id": "e0315cc4",
   "metadata": {},
   "outputs": [],
   "source": [
    "#Let's divide dataset test/train \n",
    "X_train , X_test , y_train , y_test = train_test_split(X,y,random_state = 42 , test_size = 0.2) "
   ]
  },
  {
   "cell_type": "code",
   "execution_count": 1548,
   "id": "53e849f5",
   "metadata": {},
   "outputs": [
    {
     "data": {
      "text/html": [
       "<style>#sk-container-id-97 {color: black;background-color: white;}#sk-container-id-97 pre{padding: 0;}#sk-container-id-97 div.sk-toggleable {background-color: white;}#sk-container-id-97 label.sk-toggleable__label {cursor: pointer;display: block;width: 100%;margin-bottom: 0;padding: 0.3em;box-sizing: border-box;text-align: center;}#sk-container-id-97 label.sk-toggleable__label-arrow:before {content: \"▸\";float: left;margin-right: 0.25em;color: #696969;}#sk-container-id-97 label.sk-toggleable__label-arrow:hover:before {color: black;}#sk-container-id-97 div.sk-estimator:hover label.sk-toggleable__label-arrow:before {color: black;}#sk-container-id-97 div.sk-toggleable__content {max-height: 0;max-width: 0;overflow: hidden;text-align: left;background-color: #f0f8ff;}#sk-container-id-97 div.sk-toggleable__content pre {margin: 0.2em;color: black;border-radius: 0.25em;background-color: #f0f8ff;}#sk-container-id-97 input.sk-toggleable__control:checked~div.sk-toggleable__content {max-height: 200px;max-width: 100%;overflow: auto;}#sk-container-id-97 input.sk-toggleable__control:checked~label.sk-toggleable__label-arrow:before {content: \"▾\";}#sk-container-id-97 div.sk-estimator input.sk-toggleable__control:checked~label.sk-toggleable__label {background-color: #d4ebff;}#sk-container-id-97 div.sk-label input.sk-toggleable__control:checked~label.sk-toggleable__label {background-color: #d4ebff;}#sk-container-id-97 input.sk-hidden--visually {border: 0;clip: rect(1px 1px 1px 1px);clip: rect(1px, 1px, 1px, 1px);height: 1px;margin: -1px;overflow: hidden;padding: 0;position: absolute;width: 1px;}#sk-container-id-97 div.sk-estimator {font-family: monospace;background-color: #f0f8ff;border: 1px dotted black;border-radius: 0.25em;box-sizing: border-box;margin-bottom: 0.5em;}#sk-container-id-97 div.sk-estimator:hover {background-color: #d4ebff;}#sk-container-id-97 div.sk-parallel-item::after {content: \"\";width: 100%;border-bottom: 1px solid gray;flex-grow: 1;}#sk-container-id-97 div.sk-label:hover label.sk-toggleable__label {background-color: #d4ebff;}#sk-container-id-97 div.sk-serial::before {content: \"\";position: absolute;border-left: 1px solid gray;box-sizing: border-box;top: 0;bottom: 0;left: 50%;z-index: 0;}#sk-container-id-97 div.sk-serial {display: flex;flex-direction: column;align-items: center;background-color: white;padding-right: 0.2em;padding-left: 0.2em;position: relative;}#sk-container-id-97 div.sk-item {position: relative;z-index: 1;}#sk-container-id-97 div.sk-parallel {display: flex;align-items: stretch;justify-content: center;background-color: white;position: relative;}#sk-container-id-97 div.sk-item::before, #sk-container-id-97 div.sk-parallel-item::before {content: \"\";position: absolute;border-left: 1px solid gray;box-sizing: border-box;top: 0;bottom: 0;left: 50%;z-index: -1;}#sk-container-id-97 div.sk-parallel-item {display: flex;flex-direction: column;z-index: 1;position: relative;background-color: white;}#sk-container-id-97 div.sk-parallel-item:first-child::after {align-self: flex-end;width: 50%;}#sk-container-id-97 div.sk-parallel-item:last-child::after {align-self: flex-start;width: 50%;}#sk-container-id-97 div.sk-parallel-item:only-child::after {width: 0;}#sk-container-id-97 div.sk-dashed-wrapped {border: 1px dashed gray;margin: 0 0.4em 0.5em 0.4em;box-sizing: border-box;padding-bottom: 0.4em;background-color: white;}#sk-container-id-97 div.sk-label label {font-family: monospace;font-weight: bold;display: inline-block;line-height: 1.2em;}#sk-container-id-97 div.sk-label-container {text-align: center;}#sk-container-id-97 div.sk-container {/* jupyter's `normalize.less` sets `[hidden] { display: none; }` but bootstrap.min.css set `[hidden] { display: none !important; }` so we also need the `!important` here to be able to override the default hidden behavior on the sphinx rendered scikit-learn.org. See: https://github.com/scikit-learn/scikit-learn/issues/21755 */display: inline-block !important;position: relative;}#sk-container-id-97 div.sk-text-repr-fallback {display: none;}</style><div id=\"sk-container-id-97\" class=\"sk-top-container\"><div class=\"sk-text-repr-fallback\"><pre>RandomForestClassifier(max_depth=7, min_samples_leaf=4, random_state=42)</pre><b>In a Jupyter environment, please rerun this cell to show the HTML representation or trust the notebook. <br />On GitHub, the HTML representation is unable to render, please try loading this page with nbviewer.org.</b></div><div class=\"sk-container\" hidden><div class=\"sk-item\"><div class=\"sk-estimator sk-toggleable\"><input class=\"sk-toggleable__control sk-hidden--visually\" id=\"sk-estimator-id-97\" type=\"checkbox\" checked><label for=\"sk-estimator-id-97\" class=\"sk-toggleable__label sk-toggleable__label-arrow\">RandomForestClassifier</label><div class=\"sk-toggleable__content\"><pre>RandomForestClassifier(max_depth=7, min_samples_leaf=4, random_state=42)</pre></div></div></div></div></div>"
      ],
      "text/plain": [
       "RandomForestClassifier(max_depth=7, min_samples_leaf=4, random_state=42)"
      ]
     },
     "execution_count": 1548,
     "metadata": {},
     "output_type": "execute_result"
    }
   ],
   "source": [
    "#Let's fit train values\n",
    "rf_classifier.fit(X_train,y_train)"
   ]
  },
  {
   "cell_type": "code",
   "execution_count": 1549,
   "id": "928845f6",
   "metadata": {},
   "outputs": [
    {
     "name": "stdout",
     "output_type": "stream",
     "text": [
      "Accuracy Score (Train):  0.7362011645206914\n",
      "Accuracy Score (Test):  0.7317610756006171\n",
      "F1 Score:  0.7078031212484994\n"
     ]
    }
   ],
   "source": [
    "print(\"Accuracy Score (Train): \", accuracy_score(y_train,rf_classifier.predict(X_train)))\n",
    "print(\"Accuracy Score (Test): \", accuracy_score(y_test,rf_classifier.predict(X_test)))\n",
    "print(\"F1 Score: \", f1_score(y_test,rf_classifier.predict(X_test)))"
   ]
  },
  {
   "cell_type": "markdown",
   "id": "fa2296b1",
   "metadata": {},
   "source": [
    "# 📝 Adding Columns"
   ]
  },
  {
   "cell_type": "code",
   "execution_count": 1569,
   "id": "0935c6ca-090f-4736-b598-d28d7473cd6e",
   "metadata": {},
   "outputs": [],
   "source": [
    "#Let's add columns which correlation is high with target value\n",
    "for a in ['height','weight','ap_hi','ap_lo']:\n",
    "    for b in ['height','weight','ap_hi','ap_lo']:\n",
    "        if a > b:\n",
    "            new_col_name = a + '/' + b\n",
    "            df[new_col_name] = df[a] + df[b]\n",
    "            corr = df[[new_col_name, 'cardio']].corr().loc[new_col_name, 'cardio']\n",
    "            if np.abs(corr) < 0.25:\n",
    "                del df[new_col_name]"
   ]
  },
  {
   "cell_type": "code",
   "execution_count": 1571,
   "id": "c1633eb9",
   "metadata": {},
   "outputs": [
    {
     "data": {
      "text/html": [
       "<div>\n",
       "<style scoped>\n",
       "    .dataframe tbody tr th:only-of-type {\n",
       "        vertical-align: middle;\n",
       "    }\n",
       "\n",
       "    .dataframe tbody tr th {\n",
       "        vertical-align: top;\n",
       "    }\n",
       "\n",
       "    .dataframe thead th {\n",
       "        text-align: right;\n",
       "    }\n",
       "</style>\n",
       "<table border=\"1\" class=\"dataframe\">\n",
       "  <thead>\n",
       "    <tr style=\"text-align: right;\">\n",
       "      <th></th>\n",
       "      <th>age</th>\n",
       "      <th>height</th>\n",
       "      <th>weight</th>\n",
       "      <th>ap_hi</th>\n",
       "      <th>ap_lo</th>\n",
       "      <th>cholesterol</th>\n",
       "      <th>gluc</th>\n",
       "      <th>smoke</th>\n",
       "      <th>active</th>\n",
       "      <th>cardio</th>\n",
       "      <th>ap_lo/ap_hi</th>\n",
       "    </tr>\n",
       "  </thead>\n",
       "  <tbody>\n",
       "    <tr>\n",
       "      <th>0</th>\n",
       "      <td>0.436321</td>\n",
       "      <td>0.583333</td>\n",
       "      <td>0.352941</td>\n",
       "      <td>0.471869</td>\n",
       "      <td>0.223214</td>\n",
       "      <td>1</td>\n",
       "      <td>1</td>\n",
       "      <td>0</td>\n",
       "      <td>1</td>\n",
       "      <td>0</td>\n",
       "      <td>0.695084</td>\n",
       "    </tr>\n",
       "    <tr>\n",
       "      <th>1</th>\n",
       "      <td>0.630748</td>\n",
       "      <td>0.333333</td>\n",
       "      <td>0.623529</td>\n",
       "      <td>0.526316</td>\n",
       "      <td>0.238095</td>\n",
       "      <td>3</td>\n",
       "      <td>1</td>\n",
       "      <td>0</td>\n",
       "      <td>1</td>\n",
       "      <td>1</td>\n",
       "      <td>0.764411</td>\n",
       "    </tr>\n",
       "    <tr>\n",
       "      <th>2</th>\n",
       "      <td>0.485484</td>\n",
       "      <td>0.520833</td>\n",
       "      <td>0.376471</td>\n",
       "      <td>0.508167</td>\n",
       "      <td>0.208333</td>\n",
       "      <td>3</td>\n",
       "      <td>1</td>\n",
       "      <td>0</td>\n",
       "      <td>0</td>\n",
       "      <td>1</td>\n",
       "      <td>0.716500</td>\n",
       "    </tr>\n",
       "    <tr>\n",
       "      <th>3</th>\n",
       "      <td>0.354736</td>\n",
       "      <td>0.604167</td>\n",
       "      <td>0.588235</td>\n",
       "      <td>0.544465</td>\n",
       "      <td>0.252976</td>\n",
       "      <td>1</td>\n",
       "      <td>1</td>\n",
       "      <td>0</td>\n",
       "      <td>1</td>\n",
       "      <td>1</td>\n",
       "      <td>0.797441</td>\n",
       "    </tr>\n",
       "    <tr>\n",
       "      <th>4</th>\n",
       "      <td>0.338949</td>\n",
       "      <td>0.333333</td>\n",
       "      <td>0.282353</td>\n",
       "      <td>0.453721</td>\n",
       "      <td>0.193452</td>\n",
       "      <td>1</td>\n",
       "      <td>1</td>\n",
       "      <td>0</td>\n",
       "      <td>0</td>\n",
       "      <td>0</td>\n",
       "      <td>0.647173</td>\n",
       "    </tr>\n",
       "    <tr>\n",
       "      <th>...</th>\n",
       "      <td>...</td>\n",
       "      <td>...</td>\n",
       "      <td>...</td>\n",
       "      <td>...</td>\n",
       "      <td>...</td>\n",
       "      <td>...</td>\n",
       "      <td>...</td>\n",
       "      <td>...</td>\n",
       "      <td>...</td>\n",
       "      <td>...</td>\n",
       "      <td>...</td>\n",
       "    </tr>\n",
       "    <tr>\n",
       "      <th>69994</th>\n",
       "      <td>0.720386</td>\n",
       "      <td>0.520833</td>\n",
       "      <td>0.564706</td>\n",
       "      <td>0.544465</td>\n",
       "      <td>0.223214</td>\n",
       "      <td>1</td>\n",
       "      <td>1</td>\n",
       "      <td>0</td>\n",
       "      <td>1</td>\n",
       "      <td>1</td>\n",
       "      <td>0.767679</td>\n",
       "    </tr>\n",
       "    <tr>\n",
       "      <th>69995</th>\n",
       "      <td>0.526065</td>\n",
       "      <td>0.583333</td>\n",
       "      <td>0.517647</td>\n",
       "      <td>0.490018</td>\n",
       "      <td>0.223214</td>\n",
       "      <td>1</td>\n",
       "      <td>1</td>\n",
       "      <td>1</td>\n",
       "      <td>1</td>\n",
       "      <td>0</td>\n",
       "      <td>0.713232</td>\n",
       "    </tr>\n",
       "    <tr>\n",
       "      <th>69997</th>\n",
       "      <td>0.507629</td>\n",
       "      <td>0.895833</td>\n",
       "      <td>0.858824</td>\n",
       "      <td>0.598911</td>\n",
       "      <td>0.238095</td>\n",
       "      <td>3</td>\n",
       "      <td>1</td>\n",
       "      <td>0</td>\n",
       "      <td>0</td>\n",
       "      <td>1</td>\n",
       "      <td>0.837006</td>\n",
       "    </tr>\n",
       "    <tr>\n",
       "      <th>69998</th>\n",
       "      <td>0.864166</td>\n",
       "      <td>0.479167</td>\n",
       "      <td>0.470588</td>\n",
       "      <td>0.517241</td>\n",
       "      <td>0.223214</td>\n",
       "      <td>1</td>\n",
       "      <td>2</td>\n",
       "      <td>0</td>\n",
       "      <td>0</td>\n",
       "      <td>1</td>\n",
       "      <td>0.740456</td>\n",
       "    </tr>\n",
       "    <tr>\n",
       "      <th>69999</th>\n",
       "      <td>0.663806</td>\n",
       "      <td>0.625000</td>\n",
       "      <td>0.470588</td>\n",
       "      <td>0.490018</td>\n",
       "      <td>0.223214</td>\n",
       "      <td>2</td>\n",
       "      <td>1</td>\n",
       "      <td>0</td>\n",
       "      <td>1</td>\n",
       "      <td>0</td>\n",
       "      <td>0.713232</td>\n",
       "    </tr>\n",
       "  </tbody>\n",
       "</table>\n",
       "<p>68054 rows × 11 columns</p>\n",
       "</div>"
      ],
      "text/plain": [
       "            age    height    weight     ap_hi     ap_lo  cholesterol  gluc  \\\n",
       "0      0.436321  0.583333  0.352941  0.471869  0.223214            1     1   \n",
       "1      0.630748  0.333333  0.623529  0.526316  0.238095            3     1   \n",
       "2      0.485484  0.520833  0.376471  0.508167  0.208333            3     1   \n",
       "3      0.354736  0.604167  0.588235  0.544465  0.252976            1     1   \n",
       "4      0.338949  0.333333  0.282353  0.453721  0.193452            1     1   \n",
       "...         ...       ...       ...       ...       ...          ...   ...   \n",
       "69994  0.720386  0.520833  0.564706  0.544465  0.223214            1     1   \n",
       "69995  0.526065  0.583333  0.517647  0.490018  0.223214            1     1   \n",
       "69997  0.507629  0.895833  0.858824  0.598911  0.238095            3     1   \n",
       "69998  0.864166  0.479167  0.470588  0.517241  0.223214            1     2   \n",
       "69999  0.663806  0.625000  0.470588  0.490018  0.223214            2     1   \n",
       "\n",
       "       smoke  active  cardio  ap_lo/ap_hi  \n",
       "0          0       1       0     0.695084  \n",
       "1          0       1       1     0.764411  \n",
       "2          0       0       1     0.716500  \n",
       "3          0       1       1     0.797441  \n",
       "4          0       0       0     0.647173  \n",
       "...      ...     ...     ...          ...  \n",
       "69994      0       1       1     0.767679  \n",
       "69995      1       1       0     0.713232  \n",
       "69997      0       0       1     0.837006  \n",
       "69998      0       0       1     0.740456  \n",
       "69999      0       1       0     0.713232  \n",
       "\n",
       "[68054 rows x 11 columns]"
      ]
     },
     "execution_count": 1571,
     "metadata": {},
     "output_type": "execute_result"
    }
   ],
   "source": [
    "df"
   ]
  },
  {
   "cell_type": "code",
   "execution_count": 1268,
   "id": "a3c219da",
   "metadata": {},
   "outputs": [],
   "source": [
    "#Let's assign target and explanatory values\n",
    "y = df['cardio']\n",
    "X = df.drop('cardio',axis =1)"
   ]
  },
  {
   "cell_type": "code",
   "execution_count": 1269,
   "id": "165b203c",
   "metadata": {},
   "outputs": [],
   "source": [
    "#Let's divide dataset test/train \n",
    "X_train , X_test , y_train , y_test = train_test_split(X,y,random_state = 42 , test_size = 0.2) "
   ]
  },
  {
   "cell_type": "code",
   "execution_count": 1270,
   "id": "6a7b29da",
   "metadata": {},
   "outputs": [
    {
     "data": {
      "text/html": [
       "<style>#sk-container-id-68 {color: black;background-color: white;}#sk-container-id-68 pre{padding: 0;}#sk-container-id-68 div.sk-toggleable {background-color: white;}#sk-container-id-68 label.sk-toggleable__label {cursor: pointer;display: block;width: 100%;margin-bottom: 0;padding: 0.3em;box-sizing: border-box;text-align: center;}#sk-container-id-68 label.sk-toggleable__label-arrow:before {content: \"▸\";float: left;margin-right: 0.25em;color: #696969;}#sk-container-id-68 label.sk-toggleable__label-arrow:hover:before {color: black;}#sk-container-id-68 div.sk-estimator:hover label.sk-toggleable__label-arrow:before {color: black;}#sk-container-id-68 div.sk-toggleable__content {max-height: 0;max-width: 0;overflow: hidden;text-align: left;background-color: #f0f8ff;}#sk-container-id-68 div.sk-toggleable__content pre {margin: 0.2em;color: black;border-radius: 0.25em;background-color: #f0f8ff;}#sk-container-id-68 input.sk-toggleable__control:checked~div.sk-toggleable__content {max-height: 200px;max-width: 100%;overflow: auto;}#sk-container-id-68 input.sk-toggleable__control:checked~label.sk-toggleable__label-arrow:before {content: \"▾\";}#sk-container-id-68 div.sk-estimator input.sk-toggleable__control:checked~label.sk-toggleable__label {background-color: #d4ebff;}#sk-container-id-68 div.sk-label input.sk-toggleable__control:checked~label.sk-toggleable__label {background-color: #d4ebff;}#sk-container-id-68 input.sk-hidden--visually {border: 0;clip: rect(1px 1px 1px 1px);clip: rect(1px, 1px, 1px, 1px);height: 1px;margin: -1px;overflow: hidden;padding: 0;position: absolute;width: 1px;}#sk-container-id-68 div.sk-estimator {font-family: monospace;background-color: #f0f8ff;border: 1px dotted black;border-radius: 0.25em;box-sizing: border-box;margin-bottom: 0.5em;}#sk-container-id-68 div.sk-estimator:hover {background-color: #d4ebff;}#sk-container-id-68 div.sk-parallel-item::after {content: \"\";width: 100%;border-bottom: 1px solid gray;flex-grow: 1;}#sk-container-id-68 div.sk-label:hover label.sk-toggleable__label {background-color: #d4ebff;}#sk-container-id-68 div.sk-serial::before {content: \"\";position: absolute;border-left: 1px solid gray;box-sizing: border-box;top: 0;bottom: 0;left: 50%;z-index: 0;}#sk-container-id-68 div.sk-serial {display: flex;flex-direction: column;align-items: center;background-color: white;padding-right: 0.2em;padding-left: 0.2em;position: relative;}#sk-container-id-68 div.sk-item {position: relative;z-index: 1;}#sk-container-id-68 div.sk-parallel {display: flex;align-items: stretch;justify-content: center;background-color: white;position: relative;}#sk-container-id-68 div.sk-item::before, #sk-container-id-68 div.sk-parallel-item::before {content: \"\";position: absolute;border-left: 1px solid gray;box-sizing: border-box;top: 0;bottom: 0;left: 50%;z-index: -1;}#sk-container-id-68 div.sk-parallel-item {display: flex;flex-direction: column;z-index: 1;position: relative;background-color: white;}#sk-container-id-68 div.sk-parallel-item:first-child::after {align-self: flex-end;width: 50%;}#sk-container-id-68 div.sk-parallel-item:last-child::after {align-self: flex-start;width: 50%;}#sk-container-id-68 div.sk-parallel-item:only-child::after {width: 0;}#sk-container-id-68 div.sk-dashed-wrapped {border: 1px dashed gray;margin: 0 0.4em 0.5em 0.4em;box-sizing: border-box;padding-bottom: 0.4em;background-color: white;}#sk-container-id-68 div.sk-label label {font-family: monospace;font-weight: bold;display: inline-block;line-height: 1.2em;}#sk-container-id-68 div.sk-label-container {text-align: center;}#sk-container-id-68 div.sk-container {/* jupyter's `normalize.less` sets `[hidden] { display: none; }` but bootstrap.min.css set `[hidden] { display: none !important; }` so we also need the `!important` here to be able to override the default hidden behavior on the sphinx rendered scikit-learn.org. See: https://github.com/scikit-learn/scikit-learn/issues/21755 */display: inline-block !important;position: relative;}#sk-container-id-68 div.sk-text-repr-fallback {display: none;}</style><div id=\"sk-container-id-68\" class=\"sk-top-container\"><div class=\"sk-text-repr-fallback\"><pre>RandomForestClassifier(max_depth=7, min_samples_leaf=4, random_state=42)</pre><b>In a Jupyter environment, please rerun this cell to show the HTML representation or trust the notebook. <br />On GitHub, the HTML representation is unable to render, please try loading this page with nbviewer.org.</b></div><div class=\"sk-container\" hidden><div class=\"sk-item\"><div class=\"sk-estimator sk-toggleable\"><input class=\"sk-toggleable__control sk-hidden--visually\" id=\"sk-estimator-id-68\" type=\"checkbox\" checked><label for=\"sk-estimator-id-68\" class=\"sk-toggleable__label sk-toggleable__label-arrow\">RandomForestClassifier</label><div class=\"sk-toggleable__content\"><pre>RandomForestClassifier(max_depth=7, min_samples_leaf=4, random_state=42)</pre></div></div></div></div></div>"
      ],
      "text/plain": [
       "RandomForestClassifier(max_depth=7, min_samples_leaf=4, random_state=42)"
      ]
     },
     "execution_count": 1270,
     "metadata": {},
     "output_type": "execute_result"
    }
   ],
   "source": [
    "#Let's fit train values\n",
    "rf_classifier.fit(X_train,y_train)"
   ]
  },
  {
   "cell_type": "code",
   "execution_count": 1271,
   "id": "0404d87f",
   "metadata": {},
   "outputs": [
    {
     "name": "stdout",
     "output_type": "stream",
     "text": [
      "Accuracy Score (Train):  0.737\n",
      "Accuracy Score (Test):  0.7377857142857143\n",
      "F1 Score:  0.7229643045807863\n"
     ]
    }
   ],
   "source": [
    "print(\"Accuracy Score (Train): \", accuracy_score(y_train,rf_classifier.predict(X_train)))\n",
    "print(\"Accuracy Score (Test): \", accuracy_score(y_test,rf_classifier.predict(X_test)))\n",
    "print(\"F1 Score: \", f1_score(y_test,rf_classifier.predict(X_test)))"
   ]
  },
  {
   "cell_type": "markdown",
   "id": "ee0a3948",
   "metadata": {},
   "source": [
    "# 📝 Logarithm"
   ]
  },
  {
   "cell_type": "code",
   "execution_count": 1552,
   "id": "ecf433d7",
   "metadata": {},
   "outputs": [],
   "source": [
    "#Let's find logarithm which correlation is high with target value\n",
    "for a in ['height','weight','ap_hi','ap_lo']:\n",
    "    new_col = a + \"_log\"\n",
    "    df[new_col] = np.log1p(df[a])\n",
    "    df[new_col] = df[new_col].replace(np.inf, 0)\n",
    "    corr = df[[new_col, 'cardio']].corr().loc[new_col, 'cardio']\n",
    "    if np.abs(corr) < 0.25:\n",
    "        del df[new_col]"
   ]
  },
  {
   "cell_type": "code",
   "execution_count": 1553,
   "id": "d33791bd",
   "metadata": {},
   "outputs": [
    {
     "data": {
      "text/html": [
       "<div>\n",
       "<style scoped>\n",
       "    .dataframe tbody tr th:only-of-type {\n",
       "        vertical-align: middle;\n",
       "    }\n",
       "\n",
       "    .dataframe tbody tr th {\n",
       "        vertical-align: top;\n",
       "    }\n",
       "\n",
       "    .dataframe thead th {\n",
       "        text-align: right;\n",
       "    }\n",
       "</style>\n",
       "<table border=\"1\" class=\"dataframe\">\n",
       "  <thead>\n",
       "    <tr style=\"text-align: right;\">\n",
       "      <th></th>\n",
       "      <th>age</th>\n",
       "      <th>height</th>\n",
       "      <th>weight</th>\n",
       "      <th>ap_hi</th>\n",
       "      <th>ap_lo</th>\n",
       "      <th>cholesterol</th>\n",
       "      <th>gluc</th>\n",
       "      <th>smoke</th>\n",
       "      <th>active</th>\n",
       "      <th>cardio</th>\n",
       "      <th>ap_lo/ap_hi</th>\n",
       "      <th>ap_hi_log</th>\n",
       "      <th>ap_lo_log</th>\n",
       "    </tr>\n",
       "  </thead>\n",
       "  <tbody>\n",
       "    <tr>\n",
       "      <th>0</th>\n",
       "      <td>0.436321</td>\n",
       "      <td>0.583333</td>\n",
       "      <td>0.352941</td>\n",
       "      <td>0.471869</td>\n",
       "      <td>0.223214</td>\n",
       "      <td>1</td>\n",
       "      <td>1</td>\n",
       "      <td>0</td>\n",
       "      <td>1</td>\n",
       "      <td>0</td>\n",
       "      <td>0.695084</td>\n",
       "      <td>0.386533</td>\n",
       "      <td>0.201482</td>\n",
       "    </tr>\n",
       "    <tr>\n",
       "      <th>1</th>\n",
       "      <td>0.630748</td>\n",
       "      <td>0.333333</td>\n",
       "      <td>0.623529</td>\n",
       "      <td>0.526316</td>\n",
       "      <td>0.238095</td>\n",
       "      <td>3</td>\n",
       "      <td>1</td>\n",
       "      <td>0</td>\n",
       "      <td>1</td>\n",
       "      <td>1</td>\n",
       "      <td>0.764411</td>\n",
       "      <td>0.422857</td>\n",
       "      <td>0.213574</td>\n",
       "    </tr>\n",
       "    <tr>\n",
       "      <th>2</th>\n",
       "      <td>0.485484</td>\n",
       "      <td>0.520833</td>\n",
       "      <td>0.376471</td>\n",
       "      <td>0.508167</td>\n",
       "      <td>0.208333</td>\n",
       "      <td>3</td>\n",
       "      <td>1</td>\n",
       "      <td>0</td>\n",
       "      <td>0</td>\n",
       "      <td>1</td>\n",
       "      <td>0.716500</td>\n",
       "      <td>0.410895</td>\n",
       "      <td>0.189242</td>\n",
       "    </tr>\n",
       "    <tr>\n",
       "      <th>3</th>\n",
       "      <td>0.354736</td>\n",
       "      <td>0.604167</td>\n",
       "      <td>0.588235</td>\n",
       "      <td>0.544465</td>\n",
       "      <td>0.252976</td>\n",
       "      <td>1</td>\n",
       "      <td>1</td>\n",
       "      <td>0</td>\n",
       "      <td>1</td>\n",
       "      <td>1</td>\n",
       "      <td>0.797441</td>\n",
       "      <td>0.434677</td>\n",
       "      <td>0.225522</td>\n",
       "    </tr>\n",
       "    <tr>\n",
       "      <th>4</th>\n",
       "      <td>0.338949</td>\n",
       "      <td>0.333333</td>\n",
       "      <td>0.282353</td>\n",
       "      <td>0.453721</td>\n",
       "      <td>0.193452</td>\n",
       "      <td>1</td>\n",
       "      <td>1</td>\n",
       "      <td>0</td>\n",
       "      <td>0</td>\n",
       "      <td>0</td>\n",
       "      <td>0.647173</td>\n",
       "      <td>0.374126</td>\n",
       "      <td>0.176850</td>\n",
       "    </tr>\n",
       "    <tr>\n",
       "      <th>...</th>\n",
       "      <td>...</td>\n",
       "      <td>...</td>\n",
       "      <td>...</td>\n",
       "      <td>...</td>\n",
       "      <td>...</td>\n",
       "      <td>...</td>\n",
       "      <td>...</td>\n",
       "      <td>...</td>\n",
       "      <td>...</td>\n",
       "      <td>...</td>\n",
       "      <td>...</td>\n",
       "      <td>...</td>\n",
       "      <td>...</td>\n",
       "    </tr>\n",
       "    <tr>\n",
       "      <th>69994</th>\n",
       "      <td>0.720386</td>\n",
       "      <td>0.520833</td>\n",
       "      <td>0.564706</td>\n",
       "      <td>0.544465</td>\n",
       "      <td>0.223214</td>\n",
       "      <td>1</td>\n",
       "      <td>1</td>\n",
       "      <td>0</td>\n",
       "      <td>1</td>\n",
       "      <td>1</td>\n",
       "      <td>0.767679</td>\n",
       "      <td>0.434677</td>\n",
       "      <td>0.201482</td>\n",
       "    </tr>\n",
       "    <tr>\n",
       "      <th>69995</th>\n",
       "      <td>0.526065</td>\n",
       "      <td>0.583333</td>\n",
       "      <td>0.517647</td>\n",
       "      <td>0.490018</td>\n",
       "      <td>0.223214</td>\n",
       "      <td>1</td>\n",
       "      <td>1</td>\n",
       "      <td>1</td>\n",
       "      <td>1</td>\n",
       "      <td>0</td>\n",
       "      <td>0.713232</td>\n",
       "      <td>0.398788</td>\n",
       "      <td>0.201482</td>\n",
       "    </tr>\n",
       "    <tr>\n",
       "      <th>69997</th>\n",
       "      <td>0.507629</td>\n",
       "      <td>0.895833</td>\n",
       "      <td>0.858824</td>\n",
       "      <td>0.598911</td>\n",
       "      <td>0.238095</td>\n",
       "      <td>3</td>\n",
       "      <td>1</td>\n",
       "      <td>0</td>\n",
       "      <td>0</td>\n",
       "      <td>1</td>\n",
       "      <td>0.837006</td>\n",
       "      <td>0.469323</td>\n",
       "      <td>0.213574</td>\n",
       "    </tr>\n",
       "    <tr>\n",
       "      <th>69998</th>\n",
       "      <td>0.864166</td>\n",
       "      <td>0.479167</td>\n",
       "      <td>0.470588</td>\n",
       "      <td>0.517241</td>\n",
       "      <td>0.223214</td>\n",
       "      <td>1</td>\n",
       "      <td>2</td>\n",
       "      <td>0</td>\n",
       "      <td>0</td>\n",
       "      <td>1</td>\n",
       "      <td>0.740456</td>\n",
       "      <td>0.416894</td>\n",
       "      <td>0.201482</td>\n",
       "    </tr>\n",
       "    <tr>\n",
       "      <th>69999</th>\n",
       "      <td>0.663806</td>\n",
       "      <td>0.625000</td>\n",
       "      <td>0.470588</td>\n",
       "      <td>0.490018</td>\n",
       "      <td>0.223214</td>\n",
       "      <td>2</td>\n",
       "      <td>1</td>\n",
       "      <td>0</td>\n",
       "      <td>1</td>\n",
       "      <td>0</td>\n",
       "      <td>0.713232</td>\n",
       "      <td>0.398788</td>\n",
       "      <td>0.201482</td>\n",
       "    </tr>\n",
       "  </tbody>\n",
       "</table>\n",
       "<p>68054 rows × 13 columns</p>\n",
       "</div>"
      ],
      "text/plain": [
       "            age    height    weight     ap_hi     ap_lo  cholesterol  gluc  \\\n",
       "0      0.436321  0.583333  0.352941  0.471869  0.223214            1     1   \n",
       "1      0.630748  0.333333  0.623529  0.526316  0.238095            3     1   \n",
       "2      0.485484  0.520833  0.376471  0.508167  0.208333            3     1   \n",
       "3      0.354736  0.604167  0.588235  0.544465  0.252976            1     1   \n",
       "4      0.338949  0.333333  0.282353  0.453721  0.193452            1     1   \n",
       "...         ...       ...       ...       ...       ...          ...   ...   \n",
       "69994  0.720386  0.520833  0.564706  0.544465  0.223214            1     1   \n",
       "69995  0.526065  0.583333  0.517647  0.490018  0.223214            1     1   \n",
       "69997  0.507629  0.895833  0.858824  0.598911  0.238095            3     1   \n",
       "69998  0.864166  0.479167  0.470588  0.517241  0.223214            1     2   \n",
       "69999  0.663806  0.625000  0.470588  0.490018  0.223214            2     1   \n",
       "\n",
       "       smoke  active  cardio  ap_lo/ap_hi  ap_hi_log  ap_lo_log  \n",
       "0          0       1       0     0.695084   0.386533   0.201482  \n",
       "1          0       1       1     0.764411   0.422857   0.213574  \n",
       "2          0       0       1     0.716500   0.410895   0.189242  \n",
       "3          0       1       1     0.797441   0.434677   0.225522  \n",
       "4          0       0       0     0.647173   0.374126   0.176850  \n",
       "...      ...     ...     ...          ...        ...        ...  \n",
       "69994      0       1       1     0.767679   0.434677   0.201482  \n",
       "69995      1       1       0     0.713232   0.398788   0.201482  \n",
       "69997      0       0       1     0.837006   0.469323   0.213574  \n",
       "69998      0       0       1     0.740456   0.416894   0.201482  \n",
       "69999      0       1       0     0.713232   0.398788   0.201482  \n",
       "\n",
       "[68054 rows x 13 columns]"
      ]
     },
     "execution_count": 1553,
     "metadata": {},
     "output_type": "execute_result"
    }
   ],
   "source": [
    "df"
   ]
  },
  {
   "cell_type": "code",
   "execution_count": 1479,
   "id": "c407c383",
   "metadata": {
    "scrolled": true
   },
   "outputs": [
    {
     "data": {
      "text/plain": [
       "age            0.238159\n",
       "height        -0.010821\n",
       "weight         0.181660\n",
       "ap_hi          0.054475\n",
       "ap_lo          0.065719\n",
       "cholesterol    0.221147\n",
       "gluc           0.089307\n",
       "smoke         -0.015486\n",
       "active        -0.035653\n",
       "cardio         1.000000\n",
       "MAP            0.077640\n",
       "Name: cardio, dtype: float64"
      ]
     },
     "execution_count": 1479,
     "metadata": {},
     "output_type": "execute_result"
    }
   ],
   "source": [
    "df.corr()['cardio']"
   ]
  },
  {
   "cell_type": "code",
   "execution_count": 1554,
   "id": "cc1a31cb",
   "metadata": {},
   "outputs": [],
   "source": [
    "#Let's assign target and explanatory values\n",
    "y = df['cardio']\n",
    "X = df.drop('cardio',axis =1)"
   ]
  },
  {
   "cell_type": "code",
   "execution_count": 1481,
   "id": "a39032db",
   "metadata": {},
   "outputs": [],
   "source": [
    "#Let's divide dataset test/train \n",
    "X_train , X_test , y_train , y_test = train_test_split(X,y,random_state = 42 , test_size = 0.2) "
   ]
  },
  {
   "cell_type": "code",
   "execution_count": 1482,
   "id": "21249b84",
   "metadata": {},
   "outputs": [
    {
     "data": {
      "text/html": [
       "<style>#sk-container-id-93 {color: black;background-color: white;}#sk-container-id-93 pre{padding: 0;}#sk-container-id-93 div.sk-toggleable {background-color: white;}#sk-container-id-93 label.sk-toggleable__label {cursor: pointer;display: block;width: 100%;margin-bottom: 0;padding: 0.3em;box-sizing: border-box;text-align: center;}#sk-container-id-93 label.sk-toggleable__label-arrow:before {content: \"▸\";float: left;margin-right: 0.25em;color: #696969;}#sk-container-id-93 label.sk-toggleable__label-arrow:hover:before {color: black;}#sk-container-id-93 div.sk-estimator:hover label.sk-toggleable__label-arrow:before {color: black;}#sk-container-id-93 div.sk-toggleable__content {max-height: 0;max-width: 0;overflow: hidden;text-align: left;background-color: #f0f8ff;}#sk-container-id-93 div.sk-toggleable__content pre {margin: 0.2em;color: black;border-radius: 0.25em;background-color: #f0f8ff;}#sk-container-id-93 input.sk-toggleable__control:checked~div.sk-toggleable__content {max-height: 200px;max-width: 100%;overflow: auto;}#sk-container-id-93 input.sk-toggleable__control:checked~label.sk-toggleable__label-arrow:before {content: \"▾\";}#sk-container-id-93 div.sk-estimator input.sk-toggleable__control:checked~label.sk-toggleable__label {background-color: #d4ebff;}#sk-container-id-93 div.sk-label input.sk-toggleable__control:checked~label.sk-toggleable__label {background-color: #d4ebff;}#sk-container-id-93 input.sk-hidden--visually {border: 0;clip: rect(1px 1px 1px 1px);clip: rect(1px, 1px, 1px, 1px);height: 1px;margin: -1px;overflow: hidden;padding: 0;position: absolute;width: 1px;}#sk-container-id-93 div.sk-estimator {font-family: monospace;background-color: #f0f8ff;border: 1px dotted black;border-radius: 0.25em;box-sizing: border-box;margin-bottom: 0.5em;}#sk-container-id-93 div.sk-estimator:hover {background-color: #d4ebff;}#sk-container-id-93 div.sk-parallel-item::after {content: \"\";width: 100%;border-bottom: 1px solid gray;flex-grow: 1;}#sk-container-id-93 div.sk-label:hover label.sk-toggleable__label {background-color: #d4ebff;}#sk-container-id-93 div.sk-serial::before {content: \"\";position: absolute;border-left: 1px solid gray;box-sizing: border-box;top: 0;bottom: 0;left: 50%;z-index: 0;}#sk-container-id-93 div.sk-serial {display: flex;flex-direction: column;align-items: center;background-color: white;padding-right: 0.2em;padding-left: 0.2em;position: relative;}#sk-container-id-93 div.sk-item {position: relative;z-index: 1;}#sk-container-id-93 div.sk-parallel {display: flex;align-items: stretch;justify-content: center;background-color: white;position: relative;}#sk-container-id-93 div.sk-item::before, #sk-container-id-93 div.sk-parallel-item::before {content: \"\";position: absolute;border-left: 1px solid gray;box-sizing: border-box;top: 0;bottom: 0;left: 50%;z-index: -1;}#sk-container-id-93 div.sk-parallel-item {display: flex;flex-direction: column;z-index: 1;position: relative;background-color: white;}#sk-container-id-93 div.sk-parallel-item:first-child::after {align-self: flex-end;width: 50%;}#sk-container-id-93 div.sk-parallel-item:last-child::after {align-self: flex-start;width: 50%;}#sk-container-id-93 div.sk-parallel-item:only-child::after {width: 0;}#sk-container-id-93 div.sk-dashed-wrapped {border: 1px dashed gray;margin: 0 0.4em 0.5em 0.4em;box-sizing: border-box;padding-bottom: 0.4em;background-color: white;}#sk-container-id-93 div.sk-label label {font-family: monospace;font-weight: bold;display: inline-block;line-height: 1.2em;}#sk-container-id-93 div.sk-label-container {text-align: center;}#sk-container-id-93 div.sk-container {/* jupyter's `normalize.less` sets `[hidden] { display: none; }` but bootstrap.min.css set `[hidden] { display: none !important; }` so we also need the `!important` here to be able to override the default hidden behavior on the sphinx rendered scikit-learn.org. See: https://github.com/scikit-learn/scikit-learn/issues/21755 */display: inline-block !important;position: relative;}#sk-container-id-93 div.sk-text-repr-fallback {display: none;}</style><div id=\"sk-container-id-93\" class=\"sk-top-container\"><div class=\"sk-text-repr-fallback\"><pre>RandomForestClassifier(max_depth=7, random_state=42)</pre><b>In a Jupyter environment, please rerun this cell to show the HTML representation or trust the notebook. <br />On GitHub, the HTML representation is unable to render, please try loading this page with nbviewer.org.</b></div><div class=\"sk-container\" hidden><div class=\"sk-item\"><div class=\"sk-estimator sk-toggleable\"><input class=\"sk-toggleable__control sk-hidden--visually\" id=\"sk-estimator-id-93\" type=\"checkbox\" checked><label for=\"sk-estimator-id-93\" class=\"sk-toggleable__label sk-toggleable__label-arrow\">RandomForestClassifier</label><div class=\"sk-toggleable__content\"><pre>RandomForestClassifier(max_depth=7, random_state=42)</pre></div></div></div></div></div>"
      ],
      "text/plain": [
       "RandomForestClassifier(max_depth=7, random_state=42)"
      ]
     },
     "execution_count": 1482,
     "metadata": {},
     "output_type": "execute_result"
    }
   ],
   "source": [
    "#Let's fit train values\n",
    "rf_classifier.fit(X_train,y_train)"
   ]
  },
  {
   "cell_type": "code",
   "execution_count": 1483,
   "id": "18a15a06",
   "metadata": {},
   "outputs": [
    {
     "name": "stdout",
     "output_type": "stream",
     "text": [
      "Accuracy Score (Train):  0.7376071428571429\n",
      "Accuracy Score (Test):  0.739\n",
      "F1 Score:  0.722466960352423\n"
     ]
    }
   ],
   "source": [
    "print(\"Accuracy Score (Train): \", accuracy_score(y_train,rf_classifier.predict(X_train)))\n",
    "print(\"Accuracy Score (Test): \", accuracy_score(y_test,rf_classifier.predict(X_test)))\n",
    "print(\"F1 Score: \", f1_score(y_test,rf_classifier.predict(X_test)))"
   ]
  },
  {
   "cell_type": "markdown",
   "id": "4cde73c2",
   "metadata": {},
   "source": [
    "# 📝 Square Root"
   ]
  },
  {
   "cell_type": "code",
   "execution_count": 1555,
   "id": "4fb70d65",
   "metadata": {},
   "outputs": [],
   "source": [
    "#Let's find square root which correlation is high with target value\n",
    "for a in ['height','weight','ap_hi','ap_lo']:\n",
    "    new_col = a +  \"_power\"\n",
    "    df[new_col] = np.sqrt(df[a])\n",
    "    corr = df[[new_col, 'cardio']].corr().loc[new_col, 'cardio']\n",
    "    if np.abs(corr) < 0.10:\n",
    "        del df[new_col]"
   ]
  },
  {
   "cell_type": "code",
   "execution_count": 1556,
   "id": "b9fbda32",
   "metadata": {},
   "outputs": [
    {
     "data": {
      "text/html": [
       "<div>\n",
       "<style scoped>\n",
       "    .dataframe tbody tr th:only-of-type {\n",
       "        vertical-align: middle;\n",
       "    }\n",
       "\n",
       "    .dataframe tbody tr th {\n",
       "        vertical-align: top;\n",
       "    }\n",
       "\n",
       "    .dataframe thead th {\n",
       "        text-align: right;\n",
       "    }\n",
       "</style>\n",
       "<table border=\"1\" class=\"dataframe\">\n",
       "  <thead>\n",
       "    <tr style=\"text-align: right;\">\n",
       "      <th></th>\n",
       "      <th>age</th>\n",
       "      <th>height</th>\n",
       "      <th>weight</th>\n",
       "      <th>ap_hi</th>\n",
       "      <th>ap_lo</th>\n",
       "      <th>cholesterol</th>\n",
       "      <th>gluc</th>\n",
       "      <th>smoke</th>\n",
       "      <th>active</th>\n",
       "      <th>cardio</th>\n",
       "      <th>ap_lo/ap_hi</th>\n",
       "      <th>ap_hi_log</th>\n",
       "      <th>ap_lo_log</th>\n",
       "      <th>weight_power</th>\n",
       "      <th>ap_hi_power</th>\n",
       "      <th>ap_lo_power</th>\n",
       "    </tr>\n",
       "  </thead>\n",
       "  <tbody>\n",
       "    <tr>\n",
       "      <th>0</th>\n",
       "      <td>0.436321</td>\n",
       "      <td>0.583333</td>\n",
       "      <td>0.352941</td>\n",
       "      <td>0.471869</td>\n",
       "      <td>0.223214</td>\n",
       "      <td>1</td>\n",
       "      <td>1</td>\n",
       "      <td>0</td>\n",
       "      <td>1</td>\n",
       "      <td>0</td>\n",
       "      <td>0.695084</td>\n",
       "      <td>0.386533</td>\n",
       "      <td>0.201482</td>\n",
       "      <td>0.594089</td>\n",
       "      <td>0.686927</td>\n",
       "      <td>0.472456</td>\n",
       "    </tr>\n",
       "    <tr>\n",
       "      <th>1</th>\n",
       "      <td>0.630748</td>\n",
       "      <td>0.333333</td>\n",
       "      <td>0.623529</td>\n",
       "      <td>0.526316</td>\n",
       "      <td>0.238095</td>\n",
       "      <td>3</td>\n",
       "      <td>1</td>\n",
       "      <td>0</td>\n",
       "      <td>1</td>\n",
       "      <td>1</td>\n",
       "      <td>0.764411</td>\n",
       "      <td>0.422857</td>\n",
       "      <td>0.213574</td>\n",
       "      <td>0.789639</td>\n",
       "      <td>0.725476</td>\n",
       "      <td>0.487950</td>\n",
       "    </tr>\n",
       "    <tr>\n",
       "      <th>2</th>\n",
       "      <td>0.485484</td>\n",
       "      <td>0.520833</td>\n",
       "      <td>0.376471</td>\n",
       "      <td>0.508167</td>\n",
       "      <td>0.208333</td>\n",
       "      <td>3</td>\n",
       "      <td>1</td>\n",
       "      <td>0</td>\n",
       "      <td>0</td>\n",
       "      <td>1</td>\n",
       "      <td>0.716500</td>\n",
       "      <td>0.410895</td>\n",
       "      <td>0.189242</td>\n",
       "      <td>0.613572</td>\n",
       "      <td>0.712858</td>\n",
       "      <td>0.456435</td>\n",
       "    </tr>\n",
       "    <tr>\n",
       "      <th>3</th>\n",
       "      <td>0.354736</td>\n",
       "      <td>0.604167</td>\n",
       "      <td>0.588235</td>\n",
       "      <td>0.544465</td>\n",
       "      <td>0.252976</td>\n",
       "      <td>1</td>\n",
       "      <td>1</td>\n",
       "      <td>0</td>\n",
       "      <td>1</td>\n",
       "      <td>1</td>\n",
       "      <td>0.797441</td>\n",
       "      <td>0.434677</td>\n",
       "      <td>0.225522</td>\n",
       "      <td>0.766965</td>\n",
       "      <td>0.737878</td>\n",
       "      <td>0.502967</td>\n",
       "    </tr>\n",
       "    <tr>\n",
       "      <th>4</th>\n",
       "      <td>0.338949</td>\n",
       "      <td>0.333333</td>\n",
       "      <td>0.282353</td>\n",
       "      <td>0.453721</td>\n",
       "      <td>0.193452</td>\n",
       "      <td>1</td>\n",
       "      <td>1</td>\n",
       "      <td>0</td>\n",
       "      <td>0</td>\n",
       "      <td>0</td>\n",
       "      <td>0.647173</td>\n",
       "      <td>0.374126</td>\n",
       "      <td>0.176850</td>\n",
       "      <td>0.531369</td>\n",
       "      <td>0.673588</td>\n",
       "      <td>0.439832</td>\n",
       "    </tr>\n",
       "    <tr>\n",
       "      <th>...</th>\n",
       "      <td>...</td>\n",
       "      <td>...</td>\n",
       "      <td>...</td>\n",
       "      <td>...</td>\n",
       "      <td>...</td>\n",
       "      <td>...</td>\n",
       "      <td>...</td>\n",
       "      <td>...</td>\n",
       "      <td>...</td>\n",
       "      <td>...</td>\n",
       "      <td>...</td>\n",
       "      <td>...</td>\n",
       "      <td>...</td>\n",
       "      <td>...</td>\n",
       "      <td>...</td>\n",
       "      <td>...</td>\n",
       "    </tr>\n",
       "    <tr>\n",
       "      <th>69994</th>\n",
       "      <td>0.720386</td>\n",
       "      <td>0.520833</td>\n",
       "      <td>0.564706</td>\n",
       "      <td>0.544465</td>\n",
       "      <td>0.223214</td>\n",
       "      <td>1</td>\n",
       "      <td>1</td>\n",
       "      <td>0</td>\n",
       "      <td>1</td>\n",
       "      <td>1</td>\n",
       "      <td>0.767679</td>\n",
       "      <td>0.434677</td>\n",
       "      <td>0.201482</td>\n",
       "      <td>0.751469</td>\n",
       "      <td>0.737878</td>\n",
       "      <td>0.472456</td>\n",
       "    </tr>\n",
       "    <tr>\n",
       "      <th>69995</th>\n",
       "      <td>0.526065</td>\n",
       "      <td>0.583333</td>\n",
       "      <td>0.517647</td>\n",
       "      <td>0.490018</td>\n",
       "      <td>0.223214</td>\n",
       "      <td>1</td>\n",
       "      <td>1</td>\n",
       "      <td>1</td>\n",
       "      <td>1</td>\n",
       "      <td>0</td>\n",
       "      <td>0.713232</td>\n",
       "      <td>0.398788</td>\n",
       "      <td>0.201482</td>\n",
       "      <td>0.719477</td>\n",
       "      <td>0.700013</td>\n",
       "      <td>0.472456</td>\n",
       "    </tr>\n",
       "    <tr>\n",
       "      <th>69997</th>\n",
       "      <td>0.507629</td>\n",
       "      <td>0.895833</td>\n",
       "      <td>0.858824</td>\n",
       "      <td>0.598911</td>\n",
       "      <td>0.238095</td>\n",
       "      <td>3</td>\n",
       "      <td>1</td>\n",
       "      <td>0</td>\n",
       "      <td>0</td>\n",
       "      <td>1</td>\n",
       "      <td>0.837006</td>\n",
       "      <td>0.469323</td>\n",
       "      <td>0.213574</td>\n",
       "      <td>0.926727</td>\n",
       "      <td>0.773893</td>\n",
       "      <td>0.487950</td>\n",
       "    </tr>\n",
       "    <tr>\n",
       "      <th>69998</th>\n",
       "      <td>0.864166</td>\n",
       "      <td>0.479167</td>\n",
       "      <td>0.470588</td>\n",
       "      <td>0.517241</td>\n",
       "      <td>0.223214</td>\n",
       "      <td>1</td>\n",
       "      <td>2</td>\n",
       "      <td>0</td>\n",
       "      <td>0</td>\n",
       "      <td>1</td>\n",
       "      <td>0.740456</td>\n",
       "      <td>0.416894</td>\n",
       "      <td>0.201482</td>\n",
       "      <td>0.685994</td>\n",
       "      <td>0.719195</td>\n",
       "      <td>0.472456</td>\n",
       "    </tr>\n",
       "    <tr>\n",
       "      <th>69999</th>\n",
       "      <td>0.663806</td>\n",
       "      <td>0.625000</td>\n",
       "      <td>0.470588</td>\n",
       "      <td>0.490018</td>\n",
       "      <td>0.223214</td>\n",
       "      <td>2</td>\n",
       "      <td>1</td>\n",
       "      <td>0</td>\n",
       "      <td>1</td>\n",
       "      <td>0</td>\n",
       "      <td>0.713232</td>\n",
       "      <td>0.398788</td>\n",
       "      <td>0.201482</td>\n",
       "      <td>0.685994</td>\n",
       "      <td>0.700013</td>\n",
       "      <td>0.472456</td>\n",
       "    </tr>\n",
       "  </tbody>\n",
       "</table>\n",
       "<p>68054 rows × 16 columns</p>\n",
       "</div>"
      ],
      "text/plain": [
       "            age    height    weight     ap_hi     ap_lo  cholesterol  gluc  \\\n",
       "0      0.436321  0.583333  0.352941  0.471869  0.223214            1     1   \n",
       "1      0.630748  0.333333  0.623529  0.526316  0.238095            3     1   \n",
       "2      0.485484  0.520833  0.376471  0.508167  0.208333            3     1   \n",
       "3      0.354736  0.604167  0.588235  0.544465  0.252976            1     1   \n",
       "4      0.338949  0.333333  0.282353  0.453721  0.193452            1     1   \n",
       "...         ...       ...       ...       ...       ...          ...   ...   \n",
       "69994  0.720386  0.520833  0.564706  0.544465  0.223214            1     1   \n",
       "69995  0.526065  0.583333  0.517647  0.490018  0.223214            1     1   \n",
       "69997  0.507629  0.895833  0.858824  0.598911  0.238095            3     1   \n",
       "69998  0.864166  0.479167  0.470588  0.517241  0.223214            1     2   \n",
       "69999  0.663806  0.625000  0.470588  0.490018  0.223214            2     1   \n",
       "\n",
       "       smoke  active  cardio  ap_lo/ap_hi  ap_hi_log  ap_lo_log  weight_power  \\\n",
       "0          0       1       0     0.695084   0.386533   0.201482      0.594089   \n",
       "1          0       1       1     0.764411   0.422857   0.213574      0.789639   \n",
       "2          0       0       1     0.716500   0.410895   0.189242      0.613572   \n",
       "3          0       1       1     0.797441   0.434677   0.225522      0.766965   \n",
       "4          0       0       0     0.647173   0.374126   0.176850      0.531369   \n",
       "...      ...     ...     ...          ...        ...        ...           ...   \n",
       "69994      0       1       1     0.767679   0.434677   0.201482      0.751469   \n",
       "69995      1       1       0     0.713232   0.398788   0.201482      0.719477   \n",
       "69997      0       0       1     0.837006   0.469323   0.213574      0.926727   \n",
       "69998      0       0       1     0.740456   0.416894   0.201482      0.685994   \n",
       "69999      0       1       0     0.713232   0.398788   0.201482      0.685994   \n",
       "\n",
       "       ap_hi_power  ap_lo_power  \n",
       "0         0.686927     0.472456  \n",
       "1         0.725476     0.487950  \n",
       "2         0.712858     0.456435  \n",
       "3         0.737878     0.502967  \n",
       "4         0.673588     0.439832  \n",
       "...            ...          ...  \n",
       "69994     0.737878     0.472456  \n",
       "69995     0.700013     0.472456  \n",
       "69997     0.773893     0.487950  \n",
       "69998     0.719195     0.472456  \n",
       "69999     0.700013     0.472456  \n",
       "\n",
       "[68054 rows x 16 columns]"
      ]
     },
     "execution_count": 1556,
     "metadata": {},
     "output_type": "execute_result"
    }
   ],
   "source": [
    "df"
   ]
  },
  {
   "cell_type": "code",
   "execution_count": 1493,
   "id": "42749e7c",
   "metadata": {},
   "outputs": [
    {
     "data": {
      "text/plain": [
       "age             0.238159\n",
       "height         -0.010821\n",
       "weight          0.181660\n",
       "ap_hi           0.054475\n",
       "ap_lo           0.065719\n",
       "cholesterol     0.221147\n",
       "gluc            0.089307\n",
       "smoke          -0.015486\n",
       "active         -0.035653\n",
       "cardio          1.000000\n",
       "MAP             0.077640\n",
       "weight_power    0.183736\n",
       "ap_hi_power     0.171726\n",
       "ap_lo_power     0.115900\n",
       "Name: cardio, dtype: float64"
      ]
     },
     "execution_count": 1493,
     "metadata": {},
     "output_type": "execute_result"
    }
   ],
   "source": [
    "df.corr()['cardio']"
   ]
  },
  {
   "cell_type": "code",
   "execution_count": 1494,
   "id": "7fcb3db2",
   "metadata": {},
   "outputs": [],
   "source": [
    "#Let's assign target and explanatory values\n",
    "y = df['cardio']\n",
    "X = df.drop('cardio',axis =1)"
   ]
  },
  {
   "cell_type": "code",
   "execution_count": 1495,
   "id": "272b6bd3",
   "metadata": {},
   "outputs": [],
   "source": [
    "#Let's divide dataset test/train \n",
    "X_train , X_test , y_train , y_test = train_test_split(X,y,random_state = 42 , test_size = 0.2) "
   ]
  },
  {
   "cell_type": "code",
   "execution_count": 1496,
   "id": "dc2869d9",
   "metadata": {},
   "outputs": [
    {
     "data": {
      "text/html": [
       "<style>#sk-container-id-95 {color: black;background-color: white;}#sk-container-id-95 pre{padding: 0;}#sk-container-id-95 div.sk-toggleable {background-color: white;}#sk-container-id-95 label.sk-toggleable__label {cursor: pointer;display: block;width: 100%;margin-bottom: 0;padding: 0.3em;box-sizing: border-box;text-align: center;}#sk-container-id-95 label.sk-toggleable__label-arrow:before {content: \"▸\";float: left;margin-right: 0.25em;color: #696969;}#sk-container-id-95 label.sk-toggleable__label-arrow:hover:before {color: black;}#sk-container-id-95 div.sk-estimator:hover label.sk-toggleable__label-arrow:before {color: black;}#sk-container-id-95 div.sk-toggleable__content {max-height: 0;max-width: 0;overflow: hidden;text-align: left;background-color: #f0f8ff;}#sk-container-id-95 div.sk-toggleable__content pre {margin: 0.2em;color: black;border-radius: 0.25em;background-color: #f0f8ff;}#sk-container-id-95 input.sk-toggleable__control:checked~div.sk-toggleable__content {max-height: 200px;max-width: 100%;overflow: auto;}#sk-container-id-95 input.sk-toggleable__control:checked~label.sk-toggleable__label-arrow:before {content: \"▾\";}#sk-container-id-95 div.sk-estimator input.sk-toggleable__control:checked~label.sk-toggleable__label {background-color: #d4ebff;}#sk-container-id-95 div.sk-label input.sk-toggleable__control:checked~label.sk-toggleable__label {background-color: #d4ebff;}#sk-container-id-95 input.sk-hidden--visually {border: 0;clip: rect(1px 1px 1px 1px);clip: rect(1px, 1px, 1px, 1px);height: 1px;margin: -1px;overflow: hidden;padding: 0;position: absolute;width: 1px;}#sk-container-id-95 div.sk-estimator {font-family: monospace;background-color: #f0f8ff;border: 1px dotted black;border-radius: 0.25em;box-sizing: border-box;margin-bottom: 0.5em;}#sk-container-id-95 div.sk-estimator:hover {background-color: #d4ebff;}#sk-container-id-95 div.sk-parallel-item::after {content: \"\";width: 100%;border-bottom: 1px solid gray;flex-grow: 1;}#sk-container-id-95 div.sk-label:hover label.sk-toggleable__label {background-color: #d4ebff;}#sk-container-id-95 div.sk-serial::before {content: \"\";position: absolute;border-left: 1px solid gray;box-sizing: border-box;top: 0;bottom: 0;left: 50%;z-index: 0;}#sk-container-id-95 div.sk-serial {display: flex;flex-direction: column;align-items: center;background-color: white;padding-right: 0.2em;padding-left: 0.2em;position: relative;}#sk-container-id-95 div.sk-item {position: relative;z-index: 1;}#sk-container-id-95 div.sk-parallel {display: flex;align-items: stretch;justify-content: center;background-color: white;position: relative;}#sk-container-id-95 div.sk-item::before, #sk-container-id-95 div.sk-parallel-item::before {content: \"\";position: absolute;border-left: 1px solid gray;box-sizing: border-box;top: 0;bottom: 0;left: 50%;z-index: -1;}#sk-container-id-95 div.sk-parallel-item {display: flex;flex-direction: column;z-index: 1;position: relative;background-color: white;}#sk-container-id-95 div.sk-parallel-item:first-child::after {align-self: flex-end;width: 50%;}#sk-container-id-95 div.sk-parallel-item:last-child::after {align-self: flex-start;width: 50%;}#sk-container-id-95 div.sk-parallel-item:only-child::after {width: 0;}#sk-container-id-95 div.sk-dashed-wrapped {border: 1px dashed gray;margin: 0 0.4em 0.5em 0.4em;box-sizing: border-box;padding-bottom: 0.4em;background-color: white;}#sk-container-id-95 div.sk-label label {font-family: monospace;font-weight: bold;display: inline-block;line-height: 1.2em;}#sk-container-id-95 div.sk-label-container {text-align: center;}#sk-container-id-95 div.sk-container {/* jupyter's `normalize.less` sets `[hidden] { display: none; }` but bootstrap.min.css set `[hidden] { display: none !important; }` so we also need the `!important` here to be able to override the default hidden behavior on the sphinx rendered scikit-learn.org. See: https://github.com/scikit-learn/scikit-learn/issues/21755 */display: inline-block !important;position: relative;}#sk-container-id-95 div.sk-text-repr-fallback {display: none;}</style><div id=\"sk-container-id-95\" class=\"sk-top-container\"><div class=\"sk-text-repr-fallback\"><pre>RandomForestClassifier(max_depth=7, random_state=42)</pre><b>In a Jupyter environment, please rerun this cell to show the HTML representation or trust the notebook. <br />On GitHub, the HTML representation is unable to render, please try loading this page with nbviewer.org.</b></div><div class=\"sk-container\" hidden><div class=\"sk-item\"><div class=\"sk-estimator sk-toggleable\"><input class=\"sk-toggleable__control sk-hidden--visually\" id=\"sk-estimator-id-95\" type=\"checkbox\" checked><label for=\"sk-estimator-id-95\" class=\"sk-toggleable__label sk-toggleable__label-arrow\">RandomForestClassifier</label><div class=\"sk-toggleable__content\"><pre>RandomForestClassifier(max_depth=7, random_state=42)</pre></div></div></div></div></div>"
      ],
      "text/plain": [
       "RandomForestClassifier(max_depth=7, random_state=42)"
      ]
     },
     "execution_count": 1496,
     "metadata": {},
     "output_type": "execute_result"
    }
   ],
   "source": [
    "#Let's fit train values\n",
    "rf_classifier.fit(X_train,y_train)"
   ]
  },
  {
   "cell_type": "code",
   "execution_count": 1497,
   "id": "88497a2c",
   "metadata": {},
   "outputs": [
    {
     "name": "stdout",
     "output_type": "stream",
     "text": [
      "Accuracy Score (Train):  0.7340178571428572\n",
      "Accuracy Score (Test):  0.736\n",
      "F1 Score:  0.7179917594994658\n"
     ]
    }
   ],
   "source": [
    "print(\"Accuracy Score (Train): \", accuracy_score(y_train,rf_classifier.predict(X_train)))\n",
    "print(\"Accuracy Score (Test): \", accuracy_score(y_test,rf_classifier.predict(X_test)))\n",
    "print(\"F1 Score: \", f1_score(y_test,rf_classifier.predict(X_test)))"
   ]
  },
  {
   "cell_type": "markdown",
   "id": "99fc6918",
   "metadata": {},
   "source": [
    "# 📄 Threshold"
   ]
  },
  {
   "cell_type": "code",
   "execution_count": 1572,
   "id": "469b720a",
   "metadata": {},
   "outputs": [],
   "source": [
    "#Let's create train and test data frame\n",
    "size = round(len(df)*0.8)\n",
    "train = df[:size]\n",
    "test = df[size:]"
   ]
  },
  {
   "cell_type": "code",
   "execution_count": 1573,
   "id": "66a213e3",
   "metadata": {},
   "outputs": [],
   "source": [
    "train_y = train['cardio']\n",
    "train_x = train.drop('cardio',axis = 1)\n",
    "\n",
    "test_y = test['cardio']\n",
    "test_x = test.drop('cardio',axis = 1)"
   ]
  },
  {
   "cell_type": "code",
   "execution_count": 1289,
   "id": "b550989e",
   "metadata": {},
   "outputs": [],
   "source": [
    "rf_classifier.fit(train_x, train_y)\n",
    "PRED = rf_classifier.predict(test_x)            \n",
    "PROB = rf_classifier.predict_proba(test_x)[:,1]"
   ]
  },
  {
   "cell_type": "code",
   "execution_count": 1290,
   "id": "3815de35",
   "metadata": {},
   "outputs": [],
   "source": [
    "test['PRED'] = PRED\n",
    "test['PROB'] = PROB"
   ]
  },
  {
   "cell_type": "code",
   "execution_count": 1291,
   "id": "a83fa161",
   "metadata": {},
   "outputs": [],
   "source": [
    "test['predict'] = test['PROB']>0.3"
   ]
  },
  {
   "cell_type": "code",
   "execution_count": 1292,
   "id": "ce2d2f39",
   "metadata": {},
   "outputs": [],
   "source": [
    "test['predict'] = test['predict'].astype('int')"
   ]
  },
  {
   "cell_type": "code",
   "execution_count": 1293,
   "id": "cdfd95a6",
   "metadata": {},
   "outputs": [
    {
     "name": "stdout",
     "output_type": "stream",
     "text": [
      "F1 Score:  0.7131122604198358\n",
      "F1 Score:  0.7316051008800813\n"
     ]
    }
   ],
   "source": [
    "print(\"F1 Score: \", f1_score(test_y,test['PRED']))\n",
    "print(\"F1 Score: \", f1_score(test_y,test['predict']))"
   ]
  },
  {
   "cell_type": "code",
   "execution_count": 1294,
   "id": "85bc7d3b",
   "metadata": {},
   "outputs": [
    {
     "name": "stdout",
     "output_type": "stream",
     "text": [
      "Max F-score:  0.7373814041745732 \n",
      "Threshold:  0.36\n"
     ]
    }
   ],
   "source": [
    "f_score_max = 0\n",
    "f_score_th = 0\n",
    "for i in np.arange(1,9,0.1):\n",
    "    i = round(i,1)/10\n",
    "    test['predict'] = test['PROB']>i\n",
    "    test['predict'] = test['predict'].astype('int')\n",
    "    f_score = f1_score(test_y,test['predict'])\n",
    "    if f_score > f_score_max:\n",
    "        f_score_max = f_score\n",
    "        f_score_th = i\n",
    "print(\"Max F-score: \",f_score_max , \"\\nThreshold: \", f_score_th)"
   ]
  },
  {
   "cell_type": "code",
   "execution_count": 923,
   "id": "194a4d5f",
   "metadata": {},
   "outputs": [],
   "source": [
    "test['TP'] = (test['cardio'] == 1) & (test['PRED'] == 1)\n",
    "test['TN'] = (test['cardio'] == 0) & (test['PRED'] == 0)\n",
    "test['FP'] = (test['cardio'] == 0) & (test['PRED'] == 1)\n",
    "test['FN'] = (test['cardio'] == 1) & (test['PRED'] == 0)"
   ]
  },
  {
   "cell_type": "code",
   "execution_count": 925,
   "id": "15fbf597",
   "metadata": {},
   "outputs": [],
   "source": [
    "for i in ['TP','TN','FP','FN']:\n",
    "    test[i]= test[i].astype(int)"
   ]
  },
  {
   "cell_type": "code",
   "execution_count": 928,
   "id": "7f315905",
   "metadata": {},
   "outputs": [],
   "source": [
    "TP = test['TP'].mean()\n",
    "TN = test['TN'].mean()\n",
    "FP = test['FP'].mean()\n",
    "FN = test['FN'].mean()"
   ]
  },
  {
   "cell_type": "code",
   "execution_count": 931,
   "id": "58601d7a",
   "metadata": {},
   "outputs": [
    {
     "name": "stdout",
     "output_type": "stream",
     "text": [
      "Accuracy:  0.7297039159503343\n",
      "Recall:  0.6560262529832935\n"
     ]
    }
   ],
   "source": [
    "print('Accuracy: ',(TP+TN)/(TN+TP+FP+FN)) \n",
    "print('Recall: ', TP / (TP + FN)) "
   ]
  },
  {
   "cell_type": "markdown",
   "id": "84953e8e",
   "metadata": {},
   "source": [
    "### In this case, recall is an important metrics"
   ]
  },
  {
   "cell_type": "markdown",
   "id": "1a2a653d",
   "metadata": {},
   "source": [
    "### TP --> 5  \n",
    "### TN --> 1 \n",
    "### FP --> 2\n",
    "### FN --> 6"
   ]
  },
  {
   "cell_type": "code",
   "execution_count": 932,
   "id": "6f22c695",
   "metadata": {},
   "outputs": [
    {
     "name": "stdout",
     "output_type": "stream",
     "text": [
      "Accuracy:  0.6240420804425701\n",
      "Recall:  0.6138000334952269\n"
     ]
    }
   ],
   "source": [
    "print('Accuracy: ',(TP*5+TN*1)/(TN*1+TP*5+FP*2+FN*6)) \n",
    "print('Recall: ', TP*5 / (TP*5 + FN*6)) "
   ]
  },
  {
   "cell_type": "markdown",
   "id": "a33e7731",
   "metadata": {},
   "source": [
    "# 📇 Re-balancing"
   ]
  },
  {
   "cell_type": "code",
   "execution_count": 880,
   "id": "c0a57e3a",
   "metadata": {},
   "outputs": [
    {
     "data": {
      "text/plain": [
       "0    34513\n",
       "1    33541\n",
       "Name: cardio, dtype: int64"
      ]
     },
     "execution_count": 880,
     "metadata": {},
     "output_type": "execute_result"
    }
   ],
   "source": [
    "#Let's check balance of dataset\n",
    "df['cardio'].value_counts()"
   ]
  },
  {
   "cell_type": "markdown",
   "id": "4606ed38",
   "metadata": {},
   "source": [
    "### We see that balance of dataset is 1:1 (it's great!!!) "
   ]
  },
  {
   "cell_type": "markdown",
   "id": "0c4cce10",
   "metadata": {},
   "source": [
    "# ♻️ Model Tuning "
   ]
  },
  {
   "cell_type": "code",
   "execution_count": 1574,
   "id": "ef3063f7",
   "metadata": {},
   "outputs": [
    {
     "name": "stdout",
     "output_type": "stream",
     "text": [
      "MLP Classifier:  0.7138973044356405\n",
      "Random Forest Classifier:  0.7033442938487449\n",
      "Linear SVC:  0.6998579769607068\n",
      "Balanced Random Forest Classifier:  0.699069906990699\n"
     ]
    }
   ],
   "source": [
    "model_mlp = MLPClassifier(random_state=1, max_iter=200)\n",
    "model_mlp.fit(train_x, train_y)\n",
    "print(\"MLP Classifier: \",f1_score(test_y,model_mlp.predict(test_x))) \n",
    "\n",
    "model_rfc = RandomForestClassifier(n_estimators = 100 ,max_depth=7, random_state=0)\n",
    "model_rfc.fit(train_x, train_y)\n",
    "print(\"Random Forest Classifier: \",f1_score(test_y,model_rfc.predict(test_x)))\n",
    "\n",
    "model_svc = LinearSVC()\n",
    "model_svc.fit(train_x, train_y)\n",
    "print(\"Linear SVC: \",f1_score(test_y,model_svc.predict(test_x)))\n",
    "\n",
    "model_brfc = BalancedRandomForestClassifier(n_estimators=120)\n",
    "model_brfc.fit(train_x, train_y)  \n",
    "print(\"Balanced Random Forest Classifier: \",f1_score(test_y,model_brfc.predict(test_x)))"
   ]
  },
  {
   "cell_type": "markdown",
   "id": "61e97a27",
   "metadata": {},
   "source": [
    "# 📝 Mean Arterial Pressure (MAP)"
   ]
  },
  {
   "cell_type": "code",
   "execution_count": 1521,
   "id": "ec62be7d",
   "metadata": {},
   "outputs": [],
   "source": [
    "#Let's create Mean Arterial Pressure column \n",
    "df['MAP'] =  df['ap_lo'] + 1/3 * (df['ap_hi'] - df['ap_lo'])"
   ]
  },
  {
   "cell_type": "code",
   "execution_count": 1456,
   "id": "57126000",
   "metadata": {},
   "outputs": [
    {
     "data": {
      "text/html": [
       "<div>\n",
       "<style scoped>\n",
       "    .dataframe tbody tr th:only-of-type {\n",
       "        vertical-align: middle;\n",
       "    }\n",
       "\n",
       "    .dataframe tbody tr th {\n",
       "        vertical-align: top;\n",
       "    }\n",
       "\n",
       "    .dataframe thead th {\n",
       "        text-align: right;\n",
       "    }\n",
       "</style>\n",
       "<table border=\"1\" class=\"dataframe\">\n",
       "  <thead>\n",
       "    <tr style=\"text-align: right;\">\n",
       "      <th></th>\n",
       "      <th>age</th>\n",
       "      <th>height</th>\n",
       "      <th>weight</th>\n",
       "      <th>ap_hi</th>\n",
       "      <th>ap_lo</th>\n",
       "      <th>cholesterol</th>\n",
       "      <th>gluc</th>\n",
       "      <th>smoke</th>\n",
       "      <th>active</th>\n",
       "      <th>cardio</th>\n",
       "      <th>MAP</th>\n",
       "    </tr>\n",
       "  </thead>\n",
       "  <tbody>\n",
       "    <tr>\n",
       "      <th>0</th>\n",
       "      <td>0.588076</td>\n",
       "      <td>0.579487</td>\n",
       "      <td>0.273684</td>\n",
       "      <td>0.016079</td>\n",
       "      <td>0.013550</td>\n",
       "      <td>1</td>\n",
       "      <td>1</td>\n",
       "      <td>0</td>\n",
       "      <td>1</td>\n",
       "      <td>0</td>\n",
       "      <td>0.014393</td>\n",
       "    </tr>\n",
       "    <tr>\n",
       "      <th>1</th>\n",
       "      <td>0.730159</td>\n",
       "      <td>0.517949</td>\n",
       "      <td>0.394737</td>\n",
       "      <td>0.017934</td>\n",
       "      <td>0.014453</td>\n",
       "      <td>3</td>\n",
       "      <td>1</td>\n",
       "      <td>0</td>\n",
       "      <td>1</td>\n",
       "      <td>1</td>\n",
       "      <td>0.015614</td>\n",
       "    </tr>\n",
       "    <tr>\n",
       "      <th>2</th>\n",
       "      <td>0.624003</td>\n",
       "      <td>0.564103</td>\n",
       "      <td>0.284211</td>\n",
       "      <td>0.017316</td>\n",
       "      <td>0.012647</td>\n",
       "      <td>3</td>\n",
       "      <td>1</td>\n",
       "      <td>0</td>\n",
       "      <td>0</td>\n",
       "      <td>1</td>\n",
       "      <td>0.014203</td>\n",
       "    </tr>\n",
       "    <tr>\n",
       "      <th>3</th>\n",
       "      <td>0.528455</td>\n",
       "      <td>0.584615</td>\n",
       "      <td>0.378947</td>\n",
       "      <td>0.018553</td>\n",
       "      <td>0.015357</td>\n",
       "      <td>1</td>\n",
       "      <td>1</td>\n",
       "      <td>0</td>\n",
       "      <td>1</td>\n",
       "      <td>1</td>\n",
       "      <td>0.016422</td>\n",
       "    </tr>\n",
       "    <tr>\n",
       "      <th>4</th>\n",
       "      <td>0.516918</td>\n",
       "      <td>0.517949</td>\n",
       "      <td>0.242105</td>\n",
       "      <td>0.015461</td>\n",
       "      <td>0.011743</td>\n",
       "      <td>1</td>\n",
       "      <td>1</td>\n",
       "      <td>0</td>\n",
       "      <td>0</td>\n",
       "      <td>0</td>\n",
       "      <td>0.012983</td>\n",
       "    </tr>\n",
       "    <tr>\n",
       "      <th>...</th>\n",
       "      <td>...</td>\n",
       "      <td>...</td>\n",
       "      <td>...</td>\n",
       "      <td>...</td>\n",
       "      <td>...</td>\n",
       "      <td>...</td>\n",
       "      <td>...</td>\n",
       "      <td>...</td>\n",
       "      <td>...</td>\n",
       "      <td>...</td>\n",
       "      <td>...</td>\n",
       "    </tr>\n",
       "    <tr>\n",
       "      <th>69995</th>\n",
       "      <td>0.653659</td>\n",
       "      <td>0.579487</td>\n",
       "      <td>0.347368</td>\n",
       "      <td>0.016698</td>\n",
       "      <td>0.013550</td>\n",
       "      <td>1</td>\n",
       "      <td>1</td>\n",
       "      <td>1</td>\n",
       "      <td>1</td>\n",
       "      <td>0</td>\n",
       "      <td>0.014599</td>\n",
       "    </tr>\n",
       "    <tr>\n",
       "      <th>69996</th>\n",
       "      <td>0.913899</td>\n",
       "      <td>0.528205</td>\n",
       "      <td>0.610526</td>\n",
       "      <td>0.017934</td>\n",
       "      <td>0.014453</td>\n",
       "      <td>2</td>\n",
       "      <td>2</td>\n",
       "      <td>0</td>\n",
       "      <td>1</td>\n",
       "      <td>1</td>\n",
       "      <td>0.015614</td>\n",
       "    </tr>\n",
       "    <tr>\n",
       "      <th>69997</th>\n",
       "      <td>0.640186</td>\n",
       "      <td>0.656410</td>\n",
       "      <td>0.500000</td>\n",
       "      <td>0.020408</td>\n",
       "      <td>0.014453</td>\n",
       "      <td>3</td>\n",
       "      <td>1</td>\n",
       "      <td>0</td>\n",
       "      <td>0</td>\n",
       "      <td>1</td>\n",
       "      <td>0.016438</td>\n",
       "    </tr>\n",
       "    <tr>\n",
       "      <th>69998</th>\n",
       "      <td>0.900736</td>\n",
       "      <td>0.553846</td>\n",
       "      <td>0.326316</td>\n",
       "      <td>0.017625</td>\n",
       "      <td>0.013550</td>\n",
       "      <td>1</td>\n",
       "      <td>2</td>\n",
       "      <td>0</td>\n",
       "      <td>0</td>\n",
       "      <td>1</td>\n",
       "      <td>0.014909</td>\n",
       "    </tr>\n",
       "    <tr>\n",
       "      <th>69999</th>\n",
       "      <td>0.754317</td>\n",
       "      <td>0.589744</td>\n",
       "      <td>0.326316</td>\n",
       "      <td>0.016698</td>\n",
       "      <td>0.013550</td>\n",
       "      <td>2</td>\n",
       "      <td>1</td>\n",
       "      <td>0</td>\n",
       "      <td>1</td>\n",
       "      <td>0</td>\n",
       "      <td>0.014599</td>\n",
       "    </tr>\n",
       "  </tbody>\n",
       "</table>\n",
       "<p>70000 rows × 11 columns</p>\n",
       "</div>"
      ],
      "text/plain": [
       "            age    height    weight     ap_hi     ap_lo  cholesterol  gluc  \\\n",
       "0      0.588076  0.579487  0.273684  0.016079  0.013550            1     1   \n",
       "1      0.730159  0.517949  0.394737  0.017934  0.014453            3     1   \n",
       "2      0.624003  0.564103  0.284211  0.017316  0.012647            3     1   \n",
       "3      0.528455  0.584615  0.378947  0.018553  0.015357            1     1   \n",
       "4      0.516918  0.517949  0.242105  0.015461  0.011743            1     1   \n",
       "...         ...       ...       ...       ...       ...          ...   ...   \n",
       "69995  0.653659  0.579487  0.347368  0.016698  0.013550            1     1   \n",
       "69996  0.913899  0.528205  0.610526  0.017934  0.014453            2     2   \n",
       "69997  0.640186  0.656410  0.500000  0.020408  0.014453            3     1   \n",
       "69998  0.900736  0.553846  0.326316  0.017625  0.013550            1     2   \n",
       "69999  0.754317  0.589744  0.326316  0.016698  0.013550            2     1   \n",
       "\n",
       "       smoke  active  cardio       MAP  \n",
       "0          0       1       0  0.014393  \n",
       "1          0       1       1  0.015614  \n",
       "2          0       0       1  0.014203  \n",
       "3          0       1       1  0.016422  \n",
       "4          0       0       0  0.012983  \n",
       "...      ...     ...     ...       ...  \n",
       "69995      1       1       0  0.014599  \n",
       "69996      0       1       1  0.015614  \n",
       "69997      0       0       1  0.016438  \n",
       "69998      0       0       1  0.014909  \n",
       "69999      0       1       0  0.014599  \n",
       "\n",
       "[70000 rows x 11 columns]"
      ]
     },
     "execution_count": 1456,
     "metadata": {},
     "output_type": "execute_result"
    }
   ],
   "source": [
    "df"
   ]
  },
  {
   "cell_type": "code",
   "execution_count": 1423,
   "id": "c0ea14d4",
   "metadata": {},
   "outputs": [
    {
     "data": {
      "text/plain": [
       "age            0.242083\n",
       "height        -0.016046\n",
       "weight         0.178892\n",
       "ap_hi          0.401005\n",
       "ap_lo          0.328763\n",
       "cholesterol    0.221068\n",
       "gluc           0.088933\n",
       "smoke         -0.017146\n",
       "active        -0.037659\n",
       "cardio         1.000000\n",
       "ap_hi_power    0.396377\n",
       "ap_lo_power    0.326949\n",
       "MAP            0.404051\n",
       "Name: cardio, dtype: float64"
      ]
     },
     "execution_count": 1423,
     "metadata": {},
     "output_type": "execute_result"
    }
   ],
   "source": [
    "#Let's look at new column's correlation with target\n",
    "#It's great!!! (0.4)\n",
    "df.corr()['cardio']"
   ]
  },
  {
   "cell_type": "markdown",
   "id": "2bd6ee8a",
   "metadata": {},
   "source": [
    "# 📄 Age and Weight bins"
   ]
  },
  {
   "cell_type": "code",
   "execution_count": 1576,
   "id": "9bee6a3d",
   "metadata": {},
   "outputs": [],
   "source": [
    "bins = [0.0,0.2,0.4,0.6,0.8,1.0]\n",
    "df['Age Group'] = pd.cut(df['age'] ,bins)"
   ]
  },
  {
   "cell_type": "code",
   "execution_count": 1577,
   "id": "65f40e9e",
   "metadata": {},
   "outputs": [],
   "source": [
    "bins = [0.0,0.2,0.4,0.6,0.8,1.0]\n",
    "df['Weight Group'] = pd.cut(df['weight'] ,bins)"
   ]
  },
  {
   "cell_type": "code",
   "execution_count": 1578,
   "id": "3f1578c8",
   "metadata": {},
   "outputs": [],
   "source": [
    "df = pd.get_dummies(df, columns=['Age Group'])\n",
    "df = pd.get_dummies(df, columns=['Weight Group'])"
   ]
  },
  {
   "cell_type": "code",
   "execution_count": 1584,
   "id": "544acacd",
   "metadata": {},
   "outputs": [
    {
     "data": {
      "text/html": [
       "<div>\n",
       "<style scoped>\n",
       "    .dataframe tbody tr th:only-of-type {\n",
       "        vertical-align: middle;\n",
       "    }\n",
       "\n",
       "    .dataframe tbody tr th {\n",
       "        vertical-align: top;\n",
       "    }\n",
       "\n",
       "    .dataframe thead th {\n",
       "        text-align: right;\n",
       "    }\n",
       "</style>\n",
       "<table border=\"1\" class=\"dataframe\">\n",
       "  <thead>\n",
       "    <tr style=\"text-align: right;\">\n",
       "      <th></th>\n",
       "      <th>age</th>\n",
       "      <th>height</th>\n",
       "      <th>weight</th>\n",
       "      <th>ap_hi</th>\n",
       "      <th>ap_lo</th>\n",
       "      <th>cholesterol</th>\n",
       "      <th>gluc</th>\n",
       "      <th>smoke</th>\n",
       "      <th>active</th>\n",
       "      <th>cardio</th>\n",
       "      <th>...</th>\n",
       "      <th>Age Group_(0.0, 0.2]</th>\n",
       "      <th>Age Group_(0.2, 0.4]</th>\n",
       "      <th>Age Group_(0.4, 0.6]</th>\n",
       "      <th>Age Group_(0.6, 0.8]</th>\n",
       "      <th>Age Group_(0.8, 1.0]</th>\n",
       "      <th>Weight Group_(0.0, 0.2]</th>\n",
       "      <th>Weight Group_(0.2, 0.4]</th>\n",
       "      <th>Weight Group_(0.4, 0.6]</th>\n",
       "      <th>Weight Group_(0.6, 0.8]</th>\n",
       "      <th>Weight Group_(0.8, 1.0]</th>\n",
       "    </tr>\n",
       "  </thead>\n",
       "  <tbody>\n",
       "    <tr>\n",
       "      <th>0</th>\n",
       "      <td>0.436321</td>\n",
       "      <td>0.583333</td>\n",
       "      <td>0.352941</td>\n",
       "      <td>0.471869</td>\n",
       "      <td>0.223214</td>\n",
       "      <td>1</td>\n",
       "      <td>1</td>\n",
       "      <td>0</td>\n",
       "      <td>1</td>\n",
       "      <td>0</td>\n",
       "      <td>...</td>\n",
       "      <td>0</td>\n",
       "      <td>0</td>\n",
       "      <td>1</td>\n",
       "      <td>0</td>\n",
       "      <td>0</td>\n",
       "      <td>0</td>\n",
       "      <td>1</td>\n",
       "      <td>0</td>\n",
       "      <td>0</td>\n",
       "      <td>0</td>\n",
       "    </tr>\n",
       "    <tr>\n",
       "      <th>1</th>\n",
       "      <td>0.630748</td>\n",
       "      <td>0.333333</td>\n",
       "      <td>0.623529</td>\n",
       "      <td>0.526316</td>\n",
       "      <td>0.238095</td>\n",
       "      <td>3</td>\n",
       "      <td>1</td>\n",
       "      <td>0</td>\n",
       "      <td>1</td>\n",
       "      <td>1</td>\n",
       "      <td>...</td>\n",
       "      <td>0</td>\n",
       "      <td>0</td>\n",
       "      <td>0</td>\n",
       "      <td>1</td>\n",
       "      <td>0</td>\n",
       "      <td>0</td>\n",
       "      <td>0</td>\n",
       "      <td>0</td>\n",
       "      <td>1</td>\n",
       "      <td>0</td>\n",
       "    </tr>\n",
       "    <tr>\n",
       "      <th>2</th>\n",
       "      <td>0.485484</td>\n",
       "      <td>0.520833</td>\n",
       "      <td>0.376471</td>\n",
       "      <td>0.508167</td>\n",
       "      <td>0.208333</td>\n",
       "      <td>3</td>\n",
       "      <td>1</td>\n",
       "      <td>0</td>\n",
       "      <td>0</td>\n",
       "      <td>1</td>\n",
       "      <td>...</td>\n",
       "      <td>0</td>\n",
       "      <td>0</td>\n",
       "      <td>1</td>\n",
       "      <td>0</td>\n",
       "      <td>0</td>\n",
       "      <td>0</td>\n",
       "      <td>1</td>\n",
       "      <td>0</td>\n",
       "      <td>0</td>\n",
       "      <td>0</td>\n",
       "    </tr>\n",
       "    <tr>\n",
       "      <th>3</th>\n",
       "      <td>0.354736</td>\n",
       "      <td>0.604167</td>\n",
       "      <td>0.588235</td>\n",
       "      <td>0.544465</td>\n",
       "      <td>0.252976</td>\n",
       "      <td>1</td>\n",
       "      <td>1</td>\n",
       "      <td>0</td>\n",
       "      <td>1</td>\n",
       "      <td>1</td>\n",
       "      <td>...</td>\n",
       "      <td>0</td>\n",
       "      <td>1</td>\n",
       "      <td>0</td>\n",
       "      <td>0</td>\n",
       "      <td>0</td>\n",
       "      <td>0</td>\n",
       "      <td>0</td>\n",
       "      <td>1</td>\n",
       "      <td>0</td>\n",
       "      <td>0</td>\n",
       "    </tr>\n",
       "    <tr>\n",
       "      <th>4</th>\n",
       "      <td>0.338949</td>\n",
       "      <td>0.333333</td>\n",
       "      <td>0.282353</td>\n",
       "      <td>0.453721</td>\n",
       "      <td>0.193452</td>\n",
       "      <td>1</td>\n",
       "      <td>1</td>\n",
       "      <td>0</td>\n",
       "      <td>0</td>\n",
       "      <td>0</td>\n",
       "      <td>...</td>\n",
       "      <td>0</td>\n",
       "      <td>1</td>\n",
       "      <td>0</td>\n",
       "      <td>0</td>\n",
       "      <td>0</td>\n",
       "      <td>0</td>\n",
       "      <td>1</td>\n",
       "      <td>0</td>\n",
       "      <td>0</td>\n",
       "      <td>0</td>\n",
       "    </tr>\n",
       "    <tr>\n",
       "      <th>...</th>\n",
       "      <td>...</td>\n",
       "      <td>...</td>\n",
       "      <td>...</td>\n",
       "      <td>...</td>\n",
       "      <td>...</td>\n",
       "      <td>...</td>\n",
       "      <td>...</td>\n",
       "      <td>...</td>\n",
       "      <td>...</td>\n",
       "      <td>...</td>\n",
       "      <td>...</td>\n",
       "      <td>...</td>\n",
       "      <td>...</td>\n",
       "      <td>...</td>\n",
       "      <td>...</td>\n",
       "      <td>...</td>\n",
       "      <td>...</td>\n",
       "      <td>...</td>\n",
       "      <td>...</td>\n",
       "      <td>...</td>\n",
       "      <td>...</td>\n",
       "    </tr>\n",
       "    <tr>\n",
       "      <th>69994</th>\n",
       "      <td>0.720386</td>\n",
       "      <td>0.520833</td>\n",
       "      <td>0.564706</td>\n",
       "      <td>0.544465</td>\n",
       "      <td>0.223214</td>\n",
       "      <td>1</td>\n",
       "      <td>1</td>\n",
       "      <td>0</td>\n",
       "      <td>1</td>\n",
       "      <td>1</td>\n",
       "      <td>...</td>\n",
       "      <td>0</td>\n",
       "      <td>0</td>\n",
       "      <td>0</td>\n",
       "      <td>1</td>\n",
       "      <td>0</td>\n",
       "      <td>0</td>\n",
       "      <td>0</td>\n",
       "      <td>1</td>\n",
       "      <td>0</td>\n",
       "      <td>0</td>\n",
       "    </tr>\n",
       "    <tr>\n",
       "      <th>69995</th>\n",
       "      <td>0.526065</td>\n",
       "      <td>0.583333</td>\n",
       "      <td>0.517647</td>\n",
       "      <td>0.490018</td>\n",
       "      <td>0.223214</td>\n",
       "      <td>1</td>\n",
       "      <td>1</td>\n",
       "      <td>1</td>\n",
       "      <td>1</td>\n",
       "      <td>0</td>\n",
       "      <td>...</td>\n",
       "      <td>0</td>\n",
       "      <td>0</td>\n",
       "      <td>1</td>\n",
       "      <td>0</td>\n",
       "      <td>0</td>\n",
       "      <td>0</td>\n",
       "      <td>0</td>\n",
       "      <td>1</td>\n",
       "      <td>0</td>\n",
       "      <td>0</td>\n",
       "    </tr>\n",
       "    <tr>\n",
       "      <th>69997</th>\n",
       "      <td>0.507629</td>\n",
       "      <td>0.895833</td>\n",
       "      <td>0.858824</td>\n",
       "      <td>0.598911</td>\n",
       "      <td>0.238095</td>\n",
       "      <td>3</td>\n",
       "      <td>1</td>\n",
       "      <td>0</td>\n",
       "      <td>0</td>\n",
       "      <td>1</td>\n",
       "      <td>...</td>\n",
       "      <td>0</td>\n",
       "      <td>0</td>\n",
       "      <td>1</td>\n",
       "      <td>0</td>\n",
       "      <td>0</td>\n",
       "      <td>0</td>\n",
       "      <td>0</td>\n",
       "      <td>0</td>\n",
       "      <td>0</td>\n",
       "      <td>1</td>\n",
       "    </tr>\n",
       "    <tr>\n",
       "      <th>69998</th>\n",
       "      <td>0.864166</td>\n",
       "      <td>0.479167</td>\n",
       "      <td>0.470588</td>\n",
       "      <td>0.517241</td>\n",
       "      <td>0.223214</td>\n",
       "      <td>1</td>\n",
       "      <td>2</td>\n",
       "      <td>0</td>\n",
       "      <td>0</td>\n",
       "      <td>1</td>\n",
       "      <td>...</td>\n",
       "      <td>0</td>\n",
       "      <td>0</td>\n",
       "      <td>0</td>\n",
       "      <td>0</td>\n",
       "      <td>1</td>\n",
       "      <td>0</td>\n",
       "      <td>0</td>\n",
       "      <td>1</td>\n",
       "      <td>0</td>\n",
       "      <td>0</td>\n",
       "    </tr>\n",
       "    <tr>\n",
       "      <th>69999</th>\n",
       "      <td>0.663806</td>\n",
       "      <td>0.625000</td>\n",
       "      <td>0.470588</td>\n",
       "      <td>0.490018</td>\n",
       "      <td>0.223214</td>\n",
       "      <td>2</td>\n",
       "      <td>1</td>\n",
       "      <td>0</td>\n",
       "      <td>1</td>\n",
       "      <td>0</td>\n",
       "      <td>...</td>\n",
       "      <td>0</td>\n",
       "      <td>0</td>\n",
       "      <td>0</td>\n",
       "      <td>1</td>\n",
       "      <td>0</td>\n",
       "      <td>0</td>\n",
       "      <td>0</td>\n",
       "      <td>1</td>\n",
       "      <td>0</td>\n",
       "      <td>0</td>\n",
       "    </tr>\n",
       "  </tbody>\n",
       "</table>\n",
       "<p>68054 rows × 21 columns</p>\n",
       "</div>"
      ],
      "text/plain": [
       "            age    height    weight     ap_hi     ap_lo  cholesterol  gluc  \\\n",
       "0      0.436321  0.583333  0.352941  0.471869  0.223214            1     1   \n",
       "1      0.630748  0.333333  0.623529  0.526316  0.238095            3     1   \n",
       "2      0.485484  0.520833  0.376471  0.508167  0.208333            3     1   \n",
       "3      0.354736  0.604167  0.588235  0.544465  0.252976            1     1   \n",
       "4      0.338949  0.333333  0.282353  0.453721  0.193452            1     1   \n",
       "...         ...       ...       ...       ...       ...          ...   ...   \n",
       "69994  0.720386  0.520833  0.564706  0.544465  0.223214            1     1   \n",
       "69995  0.526065  0.583333  0.517647  0.490018  0.223214            1     1   \n",
       "69997  0.507629  0.895833  0.858824  0.598911  0.238095            3     1   \n",
       "69998  0.864166  0.479167  0.470588  0.517241  0.223214            1     2   \n",
       "69999  0.663806  0.625000  0.470588  0.490018  0.223214            2     1   \n",
       "\n",
       "       smoke  active  cardio  ...  Age Group_(0.0, 0.2]  Age Group_(0.2, 0.4]  \\\n",
       "0          0       1       0  ...                     0                     0   \n",
       "1          0       1       1  ...                     0                     0   \n",
       "2          0       0       1  ...                     0                     0   \n",
       "3          0       1       1  ...                     0                     1   \n",
       "4          0       0       0  ...                     0                     1   \n",
       "...      ...     ...     ...  ...                   ...                   ...   \n",
       "69994      0       1       1  ...                     0                     0   \n",
       "69995      1       1       0  ...                     0                     0   \n",
       "69997      0       0       1  ...                     0                     0   \n",
       "69998      0       0       1  ...                     0                     0   \n",
       "69999      0       1       0  ...                     0                     0   \n",
       "\n",
       "       Age Group_(0.4, 0.6]  Age Group_(0.6, 0.8]  Age Group_(0.8, 1.0]  \\\n",
       "0                         1                     0                     0   \n",
       "1                         0                     1                     0   \n",
       "2                         1                     0                     0   \n",
       "3                         0                     0                     0   \n",
       "4                         0                     0                     0   \n",
       "...                     ...                   ...                   ...   \n",
       "69994                     0                     1                     0   \n",
       "69995                     1                     0                     0   \n",
       "69997                     1                     0                     0   \n",
       "69998                     0                     0                     1   \n",
       "69999                     0                     1                     0   \n",
       "\n",
       "       Weight Group_(0.0, 0.2]  Weight Group_(0.2, 0.4]  \\\n",
       "0                            0                        1   \n",
       "1                            0                        0   \n",
       "2                            0                        1   \n",
       "3                            0                        0   \n",
       "4                            0                        1   \n",
       "...                        ...                      ...   \n",
       "69994                        0                        0   \n",
       "69995                        0                        0   \n",
       "69997                        0                        0   \n",
       "69998                        0                        0   \n",
       "69999                        0                        0   \n",
       "\n",
       "       Weight Group_(0.4, 0.6]  Weight Group_(0.6, 0.8]  \\\n",
       "0                            0                        0   \n",
       "1                            0                        1   \n",
       "2                            0                        0   \n",
       "3                            1                        0   \n",
       "4                            0                        0   \n",
       "...                        ...                      ...   \n",
       "69994                        1                        0   \n",
       "69995                        1                        0   \n",
       "69997                        0                        0   \n",
       "69998                        1                        0   \n",
       "69999                        1                        0   \n",
       "\n",
       "       Weight Group_(0.8, 1.0]  \n",
       "0                            0  \n",
       "1                            0  \n",
       "2                            0  \n",
       "3                            0  \n",
       "4                            0  \n",
       "...                        ...  \n",
       "69994                        0  \n",
       "69995                        0  \n",
       "69997                        1  \n",
       "69998                        0  \n",
       "69999                        0  \n",
       "\n",
       "[68054 rows x 21 columns]"
      ]
     },
     "execution_count": 1584,
     "metadata": {},
     "output_type": "execute_result"
    }
   ],
   "source": [
    "df"
   ]
  },
  {
   "cell_type": "code",
   "execution_count": 1579,
   "id": "1ee5ccd7",
   "metadata": {},
   "outputs": [],
   "source": [
    "#Let's assign target and explanatory values\n",
    "y = df['cardio']\n",
    "X = df.drop('cardio',axis =1)"
   ]
  },
  {
   "cell_type": "code",
   "execution_count": 1580,
   "id": "82922105",
   "metadata": {},
   "outputs": [],
   "source": [
    "#Let's create random forest classifier model\n",
    "rf_classifier = RandomForestClassifier(n_estimators=100, random_state=42,max_depth = 7)"
   ]
  },
  {
   "cell_type": "code",
   "execution_count": 1581,
   "id": "98f4896d",
   "metadata": {},
   "outputs": [],
   "source": [
    "#Let's divide dataset test/train \n",
    "X_train , X_test , y_train , y_test = train_test_split(X,y,random_state = 42 , test_size = 0.2) "
   ]
  },
  {
   "cell_type": "code",
   "execution_count": 1582,
   "id": "78745c10",
   "metadata": {},
   "outputs": [
    {
     "data": {
      "text/html": [
       "<style>#sk-container-id-98 {color: black;background-color: white;}#sk-container-id-98 pre{padding: 0;}#sk-container-id-98 div.sk-toggleable {background-color: white;}#sk-container-id-98 label.sk-toggleable__label {cursor: pointer;display: block;width: 100%;margin-bottom: 0;padding: 0.3em;box-sizing: border-box;text-align: center;}#sk-container-id-98 label.sk-toggleable__label-arrow:before {content: \"▸\";float: left;margin-right: 0.25em;color: #696969;}#sk-container-id-98 label.sk-toggleable__label-arrow:hover:before {color: black;}#sk-container-id-98 div.sk-estimator:hover label.sk-toggleable__label-arrow:before {color: black;}#sk-container-id-98 div.sk-toggleable__content {max-height: 0;max-width: 0;overflow: hidden;text-align: left;background-color: #f0f8ff;}#sk-container-id-98 div.sk-toggleable__content pre {margin: 0.2em;color: black;border-radius: 0.25em;background-color: #f0f8ff;}#sk-container-id-98 input.sk-toggleable__control:checked~div.sk-toggleable__content {max-height: 200px;max-width: 100%;overflow: auto;}#sk-container-id-98 input.sk-toggleable__control:checked~label.sk-toggleable__label-arrow:before {content: \"▾\";}#sk-container-id-98 div.sk-estimator input.sk-toggleable__control:checked~label.sk-toggleable__label {background-color: #d4ebff;}#sk-container-id-98 div.sk-label input.sk-toggleable__control:checked~label.sk-toggleable__label {background-color: #d4ebff;}#sk-container-id-98 input.sk-hidden--visually {border: 0;clip: rect(1px 1px 1px 1px);clip: rect(1px, 1px, 1px, 1px);height: 1px;margin: -1px;overflow: hidden;padding: 0;position: absolute;width: 1px;}#sk-container-id-98 div.sk-estimator {font-family: monospace;background-color: #f0f8ff;border: 1px dotted black;border-radius: 0.25em;box-sizing: border-box;margin-bottom: 0.5em;}#sk-container-id-98 div.sk-estimator:hover {background-color: #d4ebff;}#sk-container-id-98 div.sk-parallel-item::after {content: \"\";width: 100%;border-bottom: 1px solid gray;flex-grow: 1;}#sk-container-id-98 div.sk-label:hover label.sk-toggleable__label {background-color: #d4ebff;}#sk-container-id-98 div.sk-serial::before {content: \"\";position: absolute;border-left: 1px solid gray;box-sizing: border-box;top: 0;bottom: 0;left: 50%;z-index: 0;}#sk-container-id-98 div.sk-serial {display: flex;flex-direction: column;align-items: center;background-color: white;padding-right: 0.2em;padding-left: 0.2em;position: relative;}#sk-container-id-98 div.sk-item {position: relative;z-index: 1;}#sk-container-id-98 div.sk-parallel {display: flex;align-items: stretch;justify-content: center;background-color: white;position: relative;}#sk-container-id-98 div.sk-item::before, #sk-container-id-98 div.sk-parallel-item::before {content: \"\";position: absolute;border-left: 1px solid gray;box-sizing: border-box;top: 0;bottom: 0;left: 50%;z-index: -1;}#sk-container-id-98 div.sk-parallel-item {display: flex;flex-direction: column;z-index: 1;position: relative;background-color: white;}#sk-container-id-98 div.sk-parallel-item:first-child::after {align-self: flex-end;width: 50%;}#sk-container-id-98 div.sk-parallel-item:last-child::after {align-self: flex-start;width: 50%;}#sk-container-id-98 div.sk-parallel-item:only-child::after {width: 0;}#sk-container-id-98 div.sk-dashed-wrapped {border: 1px dashed gray;margin: 0 0.4em 0.5em 0.4em;box-sizing: border-box;padding-bottom: 0.4em;background-color: white;}#sk-container-id-98 div.sk-label label {font-family: monospace;font-weight: bold;display: inline-block;line-height: 1.2em;}#sk-container-id-98 div.sk-label-container {text-align: center;}#sk-container-id-98 div.sk-container {/* jupyter's `normalize.less` sets `[hidden] { display: none; }` but bootstrap.min.css set `[hidden] { display: none !important; }` so we also need the `!important` here to be able to override the default hidden behavior on the sphinx rendered scikit-learn.org. See: https://github.com/scikit-learn/scikit-learn/issues/21755 */display: inline-block !important;position: relative;}#sk-container-id-98 div.sk-text-repr-fallback {display: none;}</style><div id=\"sk-container-id-98\" class=\"sk-top-container\"><div class=\"sk-text-repr-fallback\"><pre>RandomForestClassifier(max_depth=7, random_state=42)</pre><b>In a Jupyter environment, please rerun this cell to show the HTML representation or trust the notebook. <br />On GitHub, the HTML representation is unable to render, please try loading this page with nbviewer.org.</b></div><div class=\"sk-container\" hidden><div class=\"sk-item\"><div class=\"sk-estimator sk-toggleable\"><input class=\"sk-toggleable__control sk-hidden--visually\" id=\"sk-estimator-id-98\" type=\"checkbox\" checked><label for=\"sk-estimator-id-98\" class=\"sk-toggleable__label sk-toggleable__label-arrow\">RandomForestClassifier</label><div class=\"sk-toggleable__content\"><pre>RandomForestClassifier(max_depth=7, random_state=42)</pre></div></div></div></div></div>"
      ],
      "text/plain": [
       "RandomForestClassifier(max_depth=7, random_state=42)"
      ]
     },
     "execution_count": 1582,
     "metadata": {},
     "output_type": "execute_result"
    }
   ],
   "source": [
    "#Let's fit train values\n",
    "rf_classifier.fit(X_train,y_train)"
   ]
  },
  {
   "cell_type": "code",
   "execution_count": 1583,
   "id": "05885005",
   "metadata": {},
   "outputs": [
    {
     "name": "stdout",
     "output_type": "stream",
     "text": [
      "Accuracy Score (Train):  0.7388093969840016\n",
      "Accuracy Score (Test):  0.7334508853133495\n",
      "F1 Score:  0.7145554681353264\n"
     ]
    }
   ],
   "source": [
    "print(\"Accuracy Score (Train): \", accuracy_score(y_train,rf_classifier.predict(X_train)))\n",
    "print(\"Accuracy Score (Test): \", accuracy_score(y_test,rf_classifier.predict(X_test)))\n",
    "print(\"F1 Score: \", f1_score(y_test,rf_classifier.predict(X_test)))"
   ]
  },
  {
   "cell_type": "markdown",
   "id": "dd6d5f93",
   "metadata": {},
   "source": [
    "# 🛠️ Extreme Gradient Boost"
   ]
  },
  {
   "cell_type": "code",
   "execution_count": 1466,
   "id": "e81db0db",
   "metadata": {},
   "outputs": [],
   "source": [
    "# Split the data into training and testing sets\n",
    "X_train, X_test, y_train, y_test = train_test_split(X, y, test_size=0.2, random_state=42)"
   ]
  },
  {
   "cell_type": "code",
   "execution_count": 1467,
   "id": "c38154bf",
   "metadata": {},
   "outputs": [],
   "source": [
    "# Create the XGBoost classifier\n",
    "xgb_classifier = xgb.XGBClassifier(objective='binary:logistic', random_state=42 , n_estimators = 53 ,max_depth = 7 , min_samples_leaf = 5 , max_leaves = 115 , min_leaves = 60)"
   ]
  },
  {
   "cell_type": "code",
   "execution_count": 1468,
   "id": "4be43f8c",
   "metadata": {},
   "outputs": [
    {
     "name": "stdout",
     "output_type": "stream",
     "text": [
      "[15:07:31] WARNING: C:\\buildkite-agent\\builds\\buildkite-windows-cpu-autoscaling-group-i-0fdc6d574b9c0d168-1\\xgboost\\xgboost-ci-windows\\src\\learner.cc:767: \n",
      "Parameters: { \"min_leaves\", \"min_samples_leaf\" } are not used.\n",
      "\n"
     ]
    },
    {
     "data": {
      "text/html": [
       "<style>#sk-container-id-91 {color: black;background-color: white;}#sk-container-id-91 pre{padding: 0;}#sk-container-id-91 div.sk-toggleable {background-color: white;}#sk-container-id-91 label.sk-toggleable__label {cursor: pointer;display: block;width: 100%;margin-bottom: 0;padding: 0.3em;box-sizing: border-box;text-align: center;}#sk-container-id-91 label.sk-toggleable__label-arrow:before {content: \"▸\";float: left;margin-right: 0.25em;color: #696969;}#sk-container-id-91 label.sk-toggleable__label-arrow:hover:before {color: black;}#sk-container-id-91 div.sk-estimator:hover label.sk-toggleable__label-arrow:before {color: black;}#sk-container-id-91 div.sk-toggleable__content {max-height: 0;max-width: 0;overflow: hidden;text-align: left;background-color: #f0f8ff;}#sk-container-id-91 div.sk-toggleable__content pre {margin: 0.2em;color: black;border-radius: 0.25em;background-color: #f0f8ff;}#sk-container-id-91 input.sk-toggleable__control:checked~div.sk-toggleable__content {max-height: 200px;max-width: 100%;overflow: auto;}#sk-container-id-91 input.sk-toggleable__control:checked~label.sk-toggleable__label-arrow:before {content: \"▾\";}#sk-container-id-91 div.sk-estimator input.sk-toggleable__control:checked~label.sk-toggleable__label {background-color: #d4ebff;}#sk-container-id-91 div.sk-label input.sk-toggleable__control:checked~label.sk-toggleable__label {background-color: #d4ebff;}#sk-container-id-91 input.sk-hidden--visually {border: 0;clip: rect(1px 1px 1px 1px);clip: rect(1px, 1px, 1px, 1px);height: 1px;margin: -1px;overflow: hidden;padding: 0;position: absolute;width: 1px;}#sk-container-id-91 div.sk-estimator {font-family: monospace;background-color: #f0f8ff;border: 1px dotted black;border-radius: 0.25em;box-sizing: border-box;margin-bottom: 0.5em;}#sk-container-id-91 div.sk-estimator:hover {background-color: #d4ebff;}#sk-container-id-91 div.sk-parallel-item::after {content: \"\";width: 100%;border-bottom: 1px solid gray;flex-grow: 1;}#sk-container-id-91 div.sk-label:hover label.sk-toggleable__label {background-color: #d4ebff;}#sk-container-id-91 div.sk-serial::before {content: \"\";position: absolute;border-left: 1px solid gray;box-sizing: border-box;top: 0;bottom: 0;left: 50%;z-index: 0;}#sk-container-id-91 div.sk-serial {display: flex;flex-direction: column;align-items: center;background-color: white;padding-right: 0.2em;padding-left: 0.2em;position: relative;}#sk-container-id-91 div.sk-item {position: relative;z-index: 1;}#sk-container-id-91 div.sk-parallel {display: flex;align-items: stretch;justify-content: center;background-color: white;position: relative;}#sk-container-id-91 div.sk-item::before, #sk-container-id-91 div.sk-parallel-item::before {content: \"\";position: absolute;border-left: 1px solid gray;box-sizing: border-box;top: 0;bottom: 0;left: 50%;z-index: -1;}#sk-container-id-91 div.sk-parallel-item {display: flex;flex-direction: column;z-index: 1;position: relative;background-color: white;}#sk-container-id-91 div.sk-parallel-item:first-child::after {align-self: flex-end;width: 50%;}#sk-container-id-91 div.sk-parallel-item:last-child::after {align-self: flex-start;width: 50%;}#sk-container-id-91 div.sk-parallel-item:only-child::after {width: 0;}#sk-container-id-91 div.sk-dashed-wrapped {border: 1px dashed gray;margin: 0 0.4em 0.5em 0.4em;box-sizing: border-box;padding-bottom: 0.4em;background-color: white;}#sk-container-id-91 div.sk-label label {font-family: monospace;font-weight: bold;display: inline-block;line-height: 1.2em;}#sk-container-id-91 div.sk-label-container {text-align: center;}#sk-container-id-91 div.sk-container {/* jupyter's `normalize.less` sets `[hidden] { display: none; }` but bootstrap.min.css set `[hidden] { display: none !important; }` so we also need the `!important` here to be able to override the default hidden behavior on the sphinx rendered scikit-learn.org. See: https://github.com/scikit-learn/scikit-learn/issues/21755 */display: inline-block !important;position: relative;}#sk-container-id-91 div.sk-text-repr-fallback {display: none;}</style><div id=\"sk-container-id-91\" class=\"sk-top-container\"><div class=\"sk-text-repr-fallback\"><pre>XGBClassifier(base_score=None, booster=None, callbacks=None,\n",
       "              colsample_bylevel=None, colsample_bynode=None,\n",
       "              colsample_bytree=None, early_stopping_rounds=None,\n",
       "              enable_categorical=False, eval_metric=None, feature_types=None,\n",
       "              gamma=None, gpu_id=None, grow_policy=None, importance_type=None,\n",
       "              interaction_constraints=None, learning_rate=None, max_bin=None,\n",
       "              max_cat_threshold=None, max_cat_to_onehot=None,\n",
       "              max_delta_step=None, max_depth=7, max_leaves=115,\n",
       "              min_child_weight=None, min_leaves=60, min_samples_leaf=5,\n",
       "              missing=nan, monotone_constraints=None, n_estimators=53,\n",
       "              n_jobs=None, num_parallel_tree=None, ...)</pre><b>In a Jupyter environment, please rerun this cell to show the HTML representation or trust the notebook. <br />On GitHub, the HTML representation is unable to render, please try loading this page with nbviewer.org.</b></div><div class=\"sk-container\" hidden><div class=\"sk-item\"><div class=\"sk-estimator sk-toggleable\"><input class=\"sk-toggleable__control sk-hidden--visually\" id=\"sk-estimator-id-91\" type=\"checkbox\" checked><label for=\"sk-estimator-id-91\" class=\"sk-toggleable__label sk-toggleable__label-arrow\">XGBClassifier</label><div class=\"sk-toggleable__content\"><pre>XGBClassifier(base_score=None, booster=None, callbacks=None,\n",
       "              colsample_bylevel=None, colsample_bynode=None,\n",
       "              colsample_bytree=None, early_stopping_rounds=None,\n",
       "              enable_categorical=False, eval_metric=None, feature_types=None,\n",
       "              gamma=None, gpu_id=None, grow_policy=None, importance_type=None,\n",
       "              interaction_constraints=None, learning_rate=None, max_bin=None,\n",
       "              max_cat_threshold=None, max_cat_to_onehot=None,\n",
       "              max_delta_step=None, max_depth=7, max_leaves=115,\n",
       "              min_child_weight=None, min_leaves=60, min_samples_leaf=5,\n",
       "              missing=nan, monotone_constraints=None, n_estimators=53,\n",
       "              n_jobs=None, num_parallel_tree=None, ...)</pre></div></div></div></div></div>"
      ],
      "text/plain": [
       "XGBClassifier(base_score=None, booster=None, callbacks=None,\n",
       "              colsample_bylevel=None, colsample_bynode=None,\n",
       "              colsample_bytree=None, early_stopping_rounds=None,\n",
       "              enable_categorical=False, eval_metric=None, feature_types=None,\n",
       "              gamma=None, gpu_id=None, grow_policy=None, importance_type=None,\n",
       "              interaction_constraints=None, learning_rate=None, max_bin=None,\n",
       "              max_cat_threshold=None, max_cat_to_onehot=None,\n",
       "              max_delta_step=None, max_depth=7, max_leaves=115,\n",
       "              min_child_weight=None, min_leaves=60, min_samples_leaf=5,\n",
       "              missing=nan, monotone_constraints=None, n_estimators=53,\n",
       "              n_jobs=None, num_parallel_tree=None, ...)"
      ]
     },
     "execution_count": 1468,
     "metadata": {},
     "output_type": "execute_result"
    }
   ],
   "source": [
    "# Fit the model to the training data\n",
    "xgb_classifier.fit(X_train, y_train)"
   ]
  },
  {
   "cell_type": "code",
   "execution_count": 1469,
   "id": "644be105",
   "metadata": {},
   "outputs": [],
   "source": [
    "# Make predictions on the test data\n",
    "y_pred = xgb_classifier.predict(X_test)\n",
    "y_predtr = xgb_classifier.predict(X_train)"
   ]
  },
  {
   "cell_type": "code",
   "execution_count": 1470,
   "id": "ae67969b",
   "metadata": {},
   "outputs": [
    {
     "name": "stdout",
     "output_type": "stream",
     "text": [
      "Accuracy Score (Train):  0.7626607142857142\n",
      "Accuracy Score (Test):  0.7397142857142858\n",
      "F1 Score:  0.7292316837568733\n"
     ]
    }
   ],
   "source": [
    "# Calculate the accuracy score\n",
    "print(\"Accuracy Score (Train): \", accuracy_score(y_train,y_predtr))\n",
    "print(\"Accuracy Score (Test): \", accuracy_score(y_test,y_pred))\n",
    "print(\"F1 Score: \", f1_score(y_test,y_pred))"
   ]
  },
  {
   "cell_type": "markdown",
   "id": "13c75fb1",
   "metadata": {},
   "source": [
    "# 🛠️ Gradient Boosting Classifier"
   ]
  },
  {
   "cell_type": "code",
   "execution_count": 1471,
   "id": "4b5379ff",
   "metadata": {},
   "outputs": [],
   "source": [
    "gbm_classifier = GradientBoostingClassifier(random_state=42 , n_estimators = 53 ,max_depth = 7 , min_samples_leaf = 5)"
   ]
  },
  {
   "cell_type": "code",
   "execution_count": 1473,
   "id": "8a6437e8",
   "metadata": {},
   "outputs": [
    {
     "data": {
      "text/html": [
       "<style>#sk-container-id-92 {color: black;background-color: white;}#sk-container-id-92 pre{padding: 0;}#sk-container-id-92 div.sk-toggleable {background-color: white;}#sk-container-id-92 label.sk-toggleable__label {cursor: pointer;display: block;width: 100%;margin-bottom: 0;padding: 0.3em;box-sizing: border-box;text-align: center;}#sk-container-id-92 label.sk-toggleable__label-arrow:before {content: \"▸\";float: left;margin-right: 0.25em;color: #696969;}#sk-container-id-92 label.sk-toggleable__label-arrow:hover:before {color: black;}#sk-container-id-92 div.sk-estimator:hover label.sk-toggleable__label-arrow:before {color: black;}#sk-container-id-92 div.sk-toggleable__content {max-height: 0;max-width: 0;overflow: hidden;text-align: left;background-color: #f0f8ff;}#sk-container-id-92 div.sk-toggleable__content pre {margin: 0.2em;color: black;border-radius: 0.25em;background-color: #f0f8ff;}#sk-container-id-92 input.sk-toggleable__control:checked~div.sk-toggleable__content {max-height: 200px;max-width: 100%;overflow: auto;}#sk-container-id-92 input.sk-toggleable__control:checked~label.sk-toggleable__label-arrow:before {content: \"▾\";}#sk-container-id-92 div.sk-estimator input.sk-toggleable__control:checked~label.sk-toggleable__label {background-color: #d4ebff;}#sk-container-id-92 div.sk-label input.sk-toggleable__control:checked~label.sk-toggleable__label {background-color: #d4ebff;}#sk-container-id-92 input.sk-hidden--visually {border: 0;clip: rect(1px 1px 1px 1px);clip: rect(1px, 1px, 1px, 1px);height: 1px;margin: -1px;overflow: hidden;padding: 0;position: absolute;width: 1px;}#sk-container-id-92 div.sk-estimator {font-family: monospace;background-color: #f0f8ff;border: 1px dotted black;border-radius: 0.25em;box-sizing: border-box;margin-bottom: 0.5em;}#sk-container-id-92 div.sk-estimator:hover {background-color: #d4ebff;}#sk-container-id-92 div.sk-parallel-item::after {content: \"\";width: 100%;border-bottom: 1px solid gray;flex-grow: 1;}#sk-container-id-92 div.sk-label:hover label.sk-toggleable__label {background-color: #d4ebff;}#sk-container-id-92 div.sk-serial::before {content: \"\";position: absolute;border-left: 1px solid gray;box-sizing: border-box;top: 0;bottom: 0;left: 50%;z-index: 0;}#sk-container-id-92 div.sk-serial {display: flex;flex-direction: column;align-items: center;background-color: white;padding-right: 0.2em;padding-left: 0.2em;position: relative;}#sk-container-id-92 div.sk-item {position: relative;z-index: 1;}#sk-container-id-92 div.sk-parallel {display: flex;align-items: stretch;justify-content: center;background-color: white;position: relative;}#sk-container-id-92 div.sk-item::before, #sk-container-id-92 div.sk-parallel-item::before {content: \"\";position: absolute;border-left: 1px solid gray;box-sizing: border-box;top: 0;bottom: 0;left: 50%;z-index: -1;}#sk-container-id-92 div.sk-parallel-item {display: flex;flex-direction: column;z-index: 1;position: relative;background-color: white;}#sk-container-id-92 div.sk-parallel-item:first-child::after {align-self: flex-end;width: 50%;}#sk-container-id-92 div.sk-parallel-item:last-child::after {align-self: flex-start;width: 50%;}#sk-container-id-92 div.sk-parallel-item:only-child::after {width: 0;}#sk-container-id-92 div.sk-dashed-wrapped {border: 1px dashed gray;margin: 0 0.4em 0.5em 0.4em;box-sizing: border-box;padding-bottom: 0.4em;background-color: white;}#sk-container-id-92 div.sk-label label {font-family: monospace;font-weight: bold;display: inline-block;line-height: 1.2em;}#sk-container-id-92 div.sk-label-container {text-align: center;}#sk-container-id-92 div.sk-container {/* jupyter's `normalize.less` sets `[hidden] { display: none; }` but bootstrap.min.css set `[hidden] { display: none !important; }` so we also need the `!important` here to be able to override the default hidden behavior on the sphinx rendered scikit-learn.org. See: https://github.com/scikit-learn/scikit-learn/issues/21755 */display: inline-block !important;position: relative;}#sk-container-id-92 div.sk-text-repr-fallback {display: none;}</style><div id=\"sk-container-id-92\" class=\"sk-top-container\"><div class=\"sk-text-repr-fallback\"><pre>GradientBoostingClassifier(max_depth=7, min_samples_leaf=5, n_estimators=53,\n",
       "                           random_state=42)</pre><b>In a Jupyter environment, please rerun this cell to show the HTML representation or trust the notebook. <br />On GitHub, the HTML representation is unable to render, please try loading this page with nbviewer.org.</b></div><div class=\"sk-container\" hidden><div class=\"sk-item\"><div class=\"sk-estimator sk-toggleable\"><input class=\"sk-toggleable__control sk-hidden--visually\" id=\"sk-estimator-id-92\" type=\"checkbox\" checked><label for=\"sk-estimator-id-92\" class=\"sk-toggleable__label sk-toggleable__label-arrow\">GradientBoostingClassifier</label><div class=\"sk-toggleable__content\"><pre>GradientBoostingClassifier(max_depth=7, min_samples_leaf=5, n_estimators=53,\n",
       "                           random_state=42)</pre></div></div></div></div></div>"
      ],
      "text/plain": [
       "GradientBoostingClassifier(max_depth=7, min_samples_leaf=5, n_estimators=53,\n",
       "                           random_state=42)"
      ]
     },
     "execution_count": 1473,
     "metadata": {},
     "output_type": "execute_result"
    }
   ],
   "source": [
    "# Fit the model to the training data\n",
    "gbm_classifier.fit(X_train, y_train)"
   ]
  },
  {
   "cell_type": "code",
   "execution_count": 1474,
   "id": "3e97896b",
   "metadata": {},
   "outputs": [],
   "source": [
    "# Make predictions on the test data\n",
    "y_pred = gbm_classifier.predict(X_test)\n",
    "y_predtr = gbm_classifier.predict(X_train)"
   ]
  },
  {
   "cell_type": "code",
   "execution_count": 1475,
   "id": "7f96016b",
   "metadata": {},
   "outputs": [
    {
     "name": "stdout",
     "output_type": "stream",
     "text": [
      "Accuracy Score (Train):  0.7556607142857142\n",
      "Accuracy Score (Test):  0.7403571428571428\n",
      "F1 Score:  0.7287920614787734\n"
     ]
    }
   ],
   "source": [
    "# Calculate the accuracy score\n",
    "print(\"Accuracy Score (Train): \", accuracy_score(y_train,y_predtr))\n",
    "print(\"Accuracy Score (Test): \", accuracy_score(y_test,y_pred))\n",
    "print(\"F1 Score: \", f1_score(y_test,y_pred))"
   ]
  },
  {
   "cell_type": "markdown",
   "id": "94f3f8b9",
   "metadata": {},
   "source": [
    "# ♻️ Hyperparameter Tuning"
   ]
  },
  {
   "cell_type": "code",
   "execution_count": 1476,
   "id": "99d8e3ed",
   "metadata": {},
   "outputs": [
    {
     "name": "stdout",
     "output_type": "stream",
     "text": [
      "Best Accuracy: 0.7411428571428571\n",
      "Best min_samples_leaf: 1\n"
     ]
    }
   ],
   "source": [
    "best_accuracy = 0\n",
    "best_min_samples_leaf = 0\n",
    "\n",
    "for i in range(1, 10):\n",
    "    gbm_classifier = GradientBoostingClassifier(random_state=42, n_estimators=53, max_depth=7, min_samples_leaf=i)\n",
    "    \n",
    "    # Fit the model to the training data\n",
    "    gbm_classifier.fit(X_train, y_train)\n",
    "    \n",
    "    # Make predictions on the test data\n",
    "    y_pred = gbm_classifier.predict(X_test)\n",
    "    \n",
    "    # Calculate the accuracy score\n",
    "    acc_score = accuracy_score(y_test, y_pred)\n",
    "    # Check if the current accuracy is better than the best accuracy\n",
    "    if acc_score > best_accuracy:\n",
    "        best_accuracy = acc_score\n",
    "        best_min_samples_leaf = i\n",
    "\n",
    "print(\"Best Accuracy:\", best_accuracy)\n",
    "print(\"Best min_samples_leaf:\", best_min_samples_leaf)"
   ]
  },
  {
   "cell_type": "code",
   "execution_count": null,
   "id": "575c9067",
   "metadata": {},
   "outputs": [],
   "source": [
    "Model Summary: \n",
    "    number_of_trees    number_of_internal_trees    model_size_in_bytes    min_depth    max_depth    mean_depth    min_leaves    max_leaves    mean_leaves\n",
    "--  -----------------  --------------------------  ---------------------  -----------  -----------  ------------  ------------  ------------  -------------\n",
    "    53                 53                          66560                  7            7            7             60            115           95.3585"
   ]
  },
  {
   "cell_type": "markdown",
   "id": "b1af4c5f",
   "metadata": {},
   "source": [
    "## 💬 Result:"
   ]
  },
  {
   "cell_type": "markdown",
   "id": "2b69db77",
   "metadata": {},
   "source": [
    "Accuracy -- 0.74  (Gradient Boosting Classifier)\n",
    "\n",
    "F1 Score -- 0.73  (Threshold)"
   ]
  },
  {
   "cell_type": "markdown",
   "id": "44f67ccd",
   "metadata": {},
   "source": [
    "# 📌The End"
   ]
  }
 ],
 "metadata": {
  "kernelspec": {
   "display_name": "Python 3 (ipykernel)",
   "language": "python",
   "name": "python3"
  },
  "language_info": {
   "codemirror_mode": {
    "name": "ipython",
    "version": 3
   },
   "file_extension": ".py",
   "mimetype": "text/x-python",
   "name": "python",
   "nbconvert_exporter": "python",
   "pygments_lexer": "ipython3",
   "version": "3.10.9"
  }
 },
 "nbformat": 4,
 "nbformat_minor": 5
}
